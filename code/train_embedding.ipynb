{
 "cells": [
  {
   "cell_type": "code",
   "execution_count": 1,
   "metadata": {},
   "outputs": [],
   "source": [
    "import gensim\n",
    "import re\n",
    "import json\n"
   ]
  },
  {
   "cell_type": "code",
   "execution_count": 2,
   "metadata": {},
   "outputs": [],
   "source": [
    "def tokenize(sentences):\n",
    "    \"\"\"tokenize sentences\n",
    "\n",
    "    Args:\n",
    "        sentences (list): list of strings\n",
    "        restrict_to_len (int, optional): [description]. Defaults to -1.\n",
    "\n",
    "    Returns:\n",
    "        list: list of list of tokens\n",
    "    \"\"\"\n",
    "    \n",
    "    tok_sentences = [re.findall(r\"[\\w]+[']*[\\w]+|[\\w]+|[.,!?;]\", x ) \\\n",
    "                        for x in sentences]\n",
    "                        \n",
    "    with open('contractions.json', 'r') as fp:\n",
    "        contractions = json.load(fp)\n",
    "\n",
    "    for i, sentence in enumerate(tok_sentences):\n",
    "        new_sentence = []\n",
    "        for tok in sentence:\n",
    "            new_tok = tok.lower()\n",
    "            if new_tok in contractions:\n",
    "                for word in contractions[new_tok].split():\n",
    "                    new_sentence.append(word)\n",
    "            else:\n",
    "                if new_tok.endswith(\"'s\"):\n",
    "                    new_tok = new_tok[:-2]\n",
    "                new_sentence.append(new_tok)\n",
    "        tok_sentences[i] = new_sentence\n",
    "\n",
    "    return tok_sentences\n",
    "    "
   ]
  },
  {
   "cell_type": "code",
   "execution_count": 10,
   "metadata": {},
   "outputs": [
    {
     "name": "stdout",
     "output_type": "stream",
     "text": [
      "[['_book_title_', 'andrew_lang___prince_prigio', '.', 'txt', '.', 'out'], ['chapter', 'i', '.', 'lcb', 'chapter', 'heading', 'picture', 'p1', '.', 'jpg', 'rcb', 'how', 'the', 'fairies', 'were', 'not', 'invited', 'to', 'court', '.'], ['once', 'upon', 'a', 'time', 'there', 'reigned', 'in', 'pantouflia', 'a', 'king', 'and', 'a', 'queen', '.'], ['with', 'almost', 'everything', 'else', 'to', 'make', 'them', 'happy', ',', 'they', 'wanted', 'one', 'thing', 'they', 'had', 'no', 'children', '.'], ['this', 'vexed', 'the', 'king', 'even', 'more', 'than', 'the', 'queen', ',', 'who', 'was', 'very', 'clever', 'and', 'learned', ',', 'and', 'who', 'had', 'hated', 'dolls', 'when', 'she', 'was', 'a', 'child', '.']]\n"
     ]
    }
   ],
   "source": [
    "sentences = []\n",
    "with open(\"../data/cbt_train.txt\",'r') as fp:\n",
    "    sentences = fp.readlines()\n",
    "\n",
    "sentences_token = tokenize(sentences)\n",
    "model = gensim.models.Word2Vec(sentences=sentences_token,vector_size=300)\n",
    "print(sentences_token[:5])"
   ]
  },
  {
   "cell_type": "code",
   "execution_count": 14,
   "metadata": {},
   "outputs": [
    {
     "data": {
      "text/plain": [
       "[('child', 0.7225056290626526),\n",
       " ('doll', 0.621120035648346),\n",
       " ('sister', 0.6018297672271729),\n",
       " ('boy', 0.5949792861938477),\n",
       " ('husband', 0.5927683115005493),\n",
       " ('bride', 0.5858550667762756),\n",
       " ('nurse', 0.5786617994308472),\n",
       " ('cat', 0.57579106092453),\n",
       " ('mother', 0.5693063735961914),\n",
       " ('slave', 0.5609999895095825)]"
      ]
     },
     "execution_count": 14,
     "metadata": {},
     "output_type": "execute_result"
    }
   ],
   "source": [
    "model.wv.most_similar('baby')\n"
   ]
  },
  {
   "cell_type": "code",
   "execution_count": 13,
   "metadata": {},
   "outputs": [],
   "source": [
    "model.wv.save_word2vec_format('../data/children_lit_embed.txt', binary=False)"
   ]
  }
 ],
 "metadata": {
  "kernelspec": {
   "display_name": "Python 3",
   "language": "python",
   "name": "python3"
  },
  "language_info": {
   "codemirror_mode": {
    "name": "ipython",
    "version": 3
   },
   "file_extension": ".py",
   "mimetype": "text/x-python",
   "name": "python",
   "nbconvert_exporter": "python",
   "pygments_lexer": "ipython3",
   "version": "3.8.5"
  }
 },
 "nbformat": 4,
 "nbformat_minor": 4
}
