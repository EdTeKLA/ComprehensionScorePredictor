{
 "cells": [
  {
   "cell_type": "code",
   "execution_count": 1,
   "metadata": {},
   "outputs": [],
   "source": [
    "import pickle\n",
    "import torch.nn as nn\n",
    "import torch.optim as optim\n",
    "import torch\n",
    "import numpy as np\n",
    "import random\n",
    "\n",
    "from sklearn.model_selection import train_test_split, StratifiedKFold\n",
    "from sklearn.metrics import precision_score, recall_score\n",
    "\n",
    "from prettytable import PrettyTable\n",
    "\n",
    "from collections import Counter\n",
    "\n",
    "from matplotlib import pyplot as plt"
   ]
  },
  {
   "cell_type": "code",
   "execution_count": 2,
   "metadata": {
    "scrolled": false
   },
   "outputs": [
    {
     "name": "stdout",
     "output_type": "stream",
     "text": [
      "[ 0.51851852  0.72        0.21428571  0.43137255  0.25        0.7\n",
      "  9.          2.         12.          0.47353246  0.46016297  0.44980291\n",
      "  0.43589744  7.        ]\n",
      "14\n"
     ]
    }
   ],
   "source": [
    "with open(\"data.pkl\",'rb') as fp:\n",
    "    data = pickle.load(fp)\n",
    "\n",
    "\n",
    "# print(len(data))\n",
    "# print(train_data[0][0])\n",
    "# print(test_data[0][0])\n",
    "print(data[0][0])\n",
    "\n",
    "print(len(data[1][0]))\n"
   ]
  },
  {
   "cell_type": "code",
   "execution_count": 3,
   "metadata": {},
   "outputs": [
    {
     "name": "stdout",
     "output_type": "stream",
     "text": [
      "14\n"
     ]
    }
   ],
   "source": [
    "feature_names = ['Vocabulary Knowledge',\n",
    "                 'Phonological Awareness',\n",
    "                 'Syntax Awareness',\n",
    "                 'Working Memory',\n",
    "                 'Word Reading Fluency',\n",
    "                 'Word Reading Accuracy',\n",
    "                 'Sentence Complexity ($\\it{M}$)',\n",
    "                 'Sentence Complexity ($\\it{SD}$)',\n",
    "                 'Sentence Complexity ($\\it{max}$)',\n",
    "                 'Lexical Surprisal ($\\it{M}$)',\n",
    "                 'Lexical Surprisal ($\\it{SD}$)',\n",
    "                 'Lexical Surprisal ($\\it{max}$)',\n",
    "                 'Rare Word Use',\n",
    "                 'Question Complexity',\n",
    "                ]\n",
    "print(len(feature_names))"
   ]
  },
  {
   "cell_type": "code",
   "execution_count": 9,
   "metadata": {},
   "outputs": [],
   "source": [
    "def create_tensors(data_list):\n",
    "    # create tensor that is compatible to load and train in the language model\n",
    "    ds = {}\n",
    "    keys = ['skills','subtests','questions','y','p_index']\n",
    "    for key in keys:\n",
    "        ds[key] = []\n",
    "    \n",
    "    for entry in data_list:\n",
    "        ds['skills'].append(entry[0])\n",
    "        ds['subtests'].append(entry[1])\n",
    "        ds['questions'].append(entry[2])\n",
    "        ds['y'].append(entry[3])\n",
    "        ds['p_index'].append(entry[4])\n",
    "    \n",
    "    ds['skills'] = torch.tensor(ds['skills']).type(torch.float)\n",
    "    ds['subtests'] = torch.tensor(ds['subtests'])\n",
    "    ds['questions'] = torch.tensor(ds['questions'])\n",
    "    ds['y'] = torch.tensor(ds['y']).type(torch.float)\n",
    "\n",
    "    return ds"
   ]
  },
  {
   "cell_type": "code",
   "execution_count": 24,
   "metadata": {},
   "outputs": [],
   "source": [
    "class BertModel(nn.Module):\n",
    "    def __init__(self, sentence_dim, skill_dim, dropout):\n",
    "        super().__init__()\n",
    "        self.skill_dim = skill_dim\n",
    "        self.fc_test = nn.Linear(768,sentence_dim)\n",
    "        self.fc_question = nn.Linear(768,sentence_dim)\n",
    "        self.fc_answer = nn.Linear(768,sentence_dim)\n",
    "        self.fc_skill = nn.Linear(skill_dim,skill_dim*2)\n",
    "        self.relu = nn.ReLU()\n",
    "        self.dropout = nn.Dropout(dropout)\n",
    "        self.fc2 = nn.Linear(2*sentence_dim+skill_dim*2,128)\n",
    "#         self.fc2 = nn.Linear(sentence_dim+skill_dim*2,128)\n",
    "        self.out = nn.Linear(128,1)\n",
    "    \n",
    "    def forward(self, skills,test,question):\n",
    "        x1 = self.fc_skill(skills[:,:self.skill_dim])\n",
    "        x2 = self.fc_test(test)\n",
    "        x3 = self.fc_question(question)\n",
    "        x = torch.cat((x1,x2,x3),dim=1)\n",
    "#         x = torch.cat((x1,x2),dim=1)\n",
    "        x = self.fc2(self.relu(x))\n",
    "        pred = self.out(self.relu(x))\n",
    "        \n",
    "        return pred"
   ]
  },
  {
   "cell_type": "code",
   "execution_count": 19,
   "metadata": {},
   "outputs": [],
   "source": [
    "def binary_accuracy(preds, y):\n",
    "    \"\"\"\n",
    "    Returns accuracy per batch, i.e. if you get 8/10 right, this returns 0.8, NOT 8\n",
    "    \"\"\"\n",
    "\n",
    "    #round predictions to the closest integer\n",
    "    rounded_preds = torch.round(torch.sigmoid(preds))\n",
    "    correct = (rounded_preds == y).float() #convert into float for division \n",
    "    acc = correct.sum() / len(correct)\n",
    "    return acc"
   ]
  },
  {
   "cell_type": "code",
   "execution_count": 20,
   "metadata": {},
   "outputs": [],
   "source": [
    "def confusion_matrix(preds, Y):\n",
    "    rounded_preds = torch.round(preds.sigmoid())\n",
    "    TP = 0\n",
    "    TN = 0\n",
    "    FP = 0\n",
    "    FN = 0\n",
    "    for i, value in enumerate(rounded_preds):\n",
    "        if value == Y[i] and value == 1:\n",
    "            TP += 1\n",
    "        elif value == Y[i] and value == 0:\n",
    "            TN += 1\n",
    "        elif value != Y[i] and value == 0:\n",
    "            FN += 1\n",
    "        elif value != Y[i] and value == 1:\n",
    "            FP += 1\n",
    "        else:\n",
    "            print(value,Y[i])\n",
    "    print(f'TP: {TP}\\tFN: {FN}')\n",
    "    print(f'FP: {FP}\\tTN: {TN}')"
   ]
  },
  {
   "cell_type": "code",
   "execution_count": 21,
   "metadata": {},
   "outputs": [],
   "source": [
    "\n",
    "def precision(preds,y):\n",
    "    rounded_preds = torch.round(preds.sigmoid())\n",
    "#     print((rounded_preds==1).sum())\n",
    "#     print((y==1).sum())\n",
    "    return precision_score(y,rounded_preds)\n",
    "\n",
    "def recall(preds,y):\n",
    "    rounded_preds = torch.round(preds.sigmoid())\n",
    "    return recall_score(y,rounded_preds)\n",
    "    "
   ]
  },
  {
   "cell_type": "code",
   "execution_count": 22,
   "metadata": {},
   "outputs": [],
   "source": [
    "def train(model, data, optimizer, criterion):\n",
    "    \n",
    "    epoch_loss = 0\n",
    "    epoch_acc = 0\n",
    "    \n",
    "    model.train()\n",
    "        \n",
    "    optimizer.zero_grad()\n",
    "    \n",
    "    predictions = model(data['skills'],data['subtests'],data['questions']).squeeze(1)\n",
    "\n",
    "    loss = criterion(predictions, data['y'])\n",
    "    \n",
    "\n",
    "    acc = binary_accuracy(predictions, data['y'])\n",
    "    \n",
    "\n",
    "    loss.backward()\n",
    "\n",
    "    optimizer.step()\n",
    "\n",
    "#     epoch_loss += loss.item()\n",
    "#     epoch_acc += acc.item()\n",
    "#     print(loss)\n",
    "#     print(acc)\n",
    "    return loss,acc \n"
   ]
  },
  {
   "cell_type": "code",
   "execution_count": 23,
   "metadata": {},
   "outputs": [],
   "source": [
    "def evaluate(model, data, criterion, matrix=False):\n",
    "    \n",
    "    model.eval()\n",
    "    \n",
    "    with torch.no_grad():\n",
    "        \n",
    "        predictions = model(data['skills'],data['subtests'],data['questions']).squeeze(1)\n",
    "        \n",
    "#         print('eval pred',predictions)\n",
    "\n",
    "        loss = criterion(predictions, data['y'])\n",
    "#         print('eval1',data[4])\n",
    "#         print('eval',(data[4]==0).sum())\n",
    "        acc = binary_accuracy(predictions, data['y'])\n",
    "        \n",
    "        prec = precision(predictions, data['y'])\n",
    "        \n",
    "        rec = recall(predictions, data['y'])\n",
    "        \n",
    "        if matrix:\n",
    "            confusion_matrix(predictions, data['y'])\n",
    "        \n",
    "#         print(f\"Number of positives: {(data[4]==1).sum()}\")\n",
    "#         print(f\"Number of negatives: {(data[4]==0).sum()}\")\n",
    "\n",
    "        \n",
    "    return loss, acc, prec, rec"
   ]
  },
  {
   "cell_type": "code",
   "execution_count": 157,
   "metadata": {
    "scrolled": false
   },
   "outputs": [
    {
     "name": "stdout",
     "output_type": "stream",
     "text": [
      "Run 0\n",
      "[0.7064151167869568, 0.713907284768212, 0.7570224719101124, 0, 250]\n",
      "Run 1\n",
      "[0.6830188632011414, 0.689119170984456, 0.7471910112359551, 0, 275]\n",
      "Run 2\n",
      "[0.698867917060852, 0.7356164383561644, 0.7227456258411844, 0, 150]\n",
      "Run 3\n",
      "[0.702641487121582, 0.7223719676549866, 0.7403314917127072, 0, 150]\n",
      "Run 4\n",
      "[0.6867924332618713, 0.6993197278911565, 0.7259887005649718, 0, 250]\n",
      "Run 5\n",
      "[0.703396201133728, 0.7206982543640897, 0.7737617135207496, 0, 275]\n",
      "Run 6\n",
      "[0.6913207769393921, 0.7049608355091384, 0.7468879668049793, 0, 225]\n",
      "Run 7\n",
      "[0.7049056887626648, 0.7365661861074705, 0.7473404255319149, 0, 125]\n",
      "Run 8\n",
      "[0.6958490610122681, 0.7098039215686275, 0.75, 0, 200]\n",
      "Run 9\n",
      "[0.7162263989448547, 0.7302204928664072, 0.7701778385772914, 0, 175]\n",
      "[[0.7064151167869568, 0.713907284768212, 0.7570224719101124, 0, 250], [0.6830188632011414, 0.689119170984456, 0.7471910112359551, 0, 275], [0.698867917060852, 0.7356164383561644, 0.7227456258411844, 0, 150], [0.702641487121582, 0.7223719676549866, 0.7403314917127072, 0, 150], [0.6867924332618713, 0.6993197278911565, 0.7259887005649718, 0, 250], [0.703396201133728, 0.7206982543640897, 0.7737617135207496, 0, 275], [0.6913207769393921, 0.7049608355091384, 0.7468879668049793, 0, 225], [0.7049056887626648, 0.7365661861074705, 0.7473404255319149, 0, 125], [0.6958490610122681, 0.7098039215686275, 0.75, 0, 200], [0.7162263989448547, 0.7302204928664072, 0.7701778385772914, 0, 175]]\n"
     ]
    }
   ],
   "source": [
    "max_epochs = 300\n",
    "ep_log_interval = 25\n",
    "lrn_rate = 0.001\n",
    "sentence_dim = 64\n",
    "skill_dim = 14\n",
    "dropout = 0.1\n",
    "verbose = False\n",
    "\n",
    "model_results = []\n",
    "\n",
    "\n",
    "for i in range(10):\n",
    "    print(f\"Run {i}\")\n",
    "    # Get training and testing data\n",
    "    train_data, test_data = train_test_split(data, test_size=0.2, random_state = i)\n",
    "    \n",
    "    # fix layer initialization\n",
    "    torch.manual_seed(10)\n",
    "    net = BertModel(sentence_dim, skill_dim, dropout)\n",
    "    criterion = nn.BCEWithLogitsLoss() #BCEWithLogitsLoss()\n",
    "    optimizer = optim.Adam(net.parameters(), lr=lrn_rate)\n",
    "    train_ds = create_tensors(train_data)\n",
    "    test_ds = create_tensors(test_data)\n",
    "\n",
    "    max_stats = [0,0,0,0,0] # each position represents acc, prec, recall, f1, epoch number respectively\n",
    "    for epoch in range(max_epochs):\n",
    "        train_loss, train_acc = train(net,train_ds,optimizer,criterion)\n",
    "\n",
    "        if epoch % ep_log_interval == 0:\n",
    "            \n",
    "            valid_loss, valid_acc, prec, rec = evaluate(net,test_ds,criterion,matrix=False)\n",
    "            if verbose:\n",
    "                print(f'Epoch: {epoch}')\n",
    "                print(f'\\tTrain Loss: {train_loss:.3f} | Train Acc: {train_acc*100:.2f}%')\n",
    "                print(f'\\t Val. Loss: {valid_loss:.3f} |  Val. Acc: {valid_acc*100:.2f}%')\n",
    "                print('precision: ', prec)\n",
    "                print('recall: ', rec)\n",
    "                try:\n",
    "                    f1 = 2*(prec*rec)/(prec+rec)\n",
    "                    print(f\"f1 = {f1}\")\n",
    "                except:\n",
    "                    continue\n",
    "            if valid_acc > max_stats[0]:\n",
    "                max_stats[0] = float(valid_acc)\n",
    "                max_stats[1] = prec\n",
    "                max_stats[2] = rec\n",
    "                max_stats[4] = epoch\n",
    "                torch.save(net.state_dict(), 'full.pt')\n",
    "                # sentence_embedding_model\n",
    "                \n",
    "    print(max_stats)        \n",
    "    model_results.append(max_stats)\n",
    "\n",
    "print(model_results)"
   ]
  },
  {
   "cell_type": "code",
   "execution_count": 160,
   "metadata": {},
   "outputs": [
    {
     "name": "stdout",
     "output_type": "stream",
     "text": [
      "(10, 5)\n",
      "mean [  0.69894339   0.71625843   0.74814472   0.         207.5       ]\n",
      "std [9.44723587e-03 1.49580989e-02 1.55696205e-02 0.00000000e+00\n",
      " 5.25000000e+01]\n"
     ]
    }
   ],
   "source": [
    "new_result = np.asarray(model_results)\n",
    "print(new_result.shape)\n",
    "print(\"mean\",np.mean(new_result,axis=0))\n",
    "print(\"std\",np.std(new_result,axis=0))"
   ]
  },
  {
   "cell_type": "code",
   "execution_count": 93,
   "metadata": {},
   "outputs": [
    {
     "name": "stdout",
     "output_type": "stream",
     "text": [
      "BertModel(\n",
      "  (fc_test): Linear(in_features=768, out_features=64, bias=True)\n",
      "  (fc_question): Linear(in_features=768, out_features=64, bias=True)\n",
      "  (fc_answer): Linear(in_features=768, out_features=64, bias=True)\n",
      "  (fc_skill): Linear(in_features=14, out_features=28, bias=True)\n",
      "  (relu): ReLU()\n",
      "  (dropout): Dropout(p=0.1, inplace=False)\n",
      "  (fc2): Linear(in_features=156, out_features=128, bias=True)\n",
      "  (out): Linear(in_features=128, out_features=1, bias=True)\n",
      ")\n"
     ]
    },
    {
     "data": {
      "text/plain": [
       "(tensor(0.5809), tensor(0.6989), 0.7018970189701897, 0.7431850789096126)"
      ]
     },
     "execution_count": 93,
     "metadata": {},
     "output_type": "execute_result"
    }
   ],
   "source": [
    "model_1 = BertModel(64, 14, 0.1)\n",
    "model_1.load_state_dict(torch.load('full.pt'))\n",
    "print(model_1)\n",
    "\n",
    "train_data, test_data = train_test_split(data, test_size=0.2, random_state = 40)\n",
    "test_ds = create_tensors(test_data)\n",
    "\n",
    "criterion = nn.BCEWithLogitsLoss()\n",
    "evaluate(model_1,test_ds,criterion,matrix=False)"
   ]
  },
  {
   "cell_type": "code",
   "execution_count": 94,
   "metadata": {},
   "outputs": [
    {
     "name": "stdout",
     "output_type": "stream",
     "text": [
      "[[ 0.34671607 -0.09974326  1.3118764  ... -0.         -0.13181214\n",
      "  -4.02379686]\n",
      " [ 0.2379342  -0.06502189  0.98843849 ... -0.33262415 -0.10106314\n",
      "  -4.34791352]\n",
      " [ 0.20414591 -0.10371971  1.07089025 ... -0.21938969 -0.09363899\n",
      "  -3.25855563]\n",
      " ...\n",
      " [ 0.10873534 -0.12871846  1.00325213 ... -0.18126687 -0.07660057\n",
      "  -2.48843623]\n",
      " [ 0.27333609 -0.06086039  1.08306371 ... -0.14106246 -0.085168\n",
      "  -1.80966607]\n",
      " [ 0.10819673 -0.02719603  0.73937561 ... -0.         -0.13470283\n",
      "  -2.03253953]]\n"
     ]
    }
   ],
   "source": [
    "from captum.attr import IntegratedGradients\n",
    "ig = IntegratedGradients(model_1)\n",
    "test_ds['skills'].requires_grad_()\n",
    "test_ds['subtests'].requires_grad_()\n",
    "test_ds['questions'].requires_grad_()\n",
    "\n",
    "\n",
    "\n",
    "attr,delta = ig.attribute((test_ds['skills'],test_ds['subtests'],test_ds['questions'])\\\n",
    "                          ,return_convergence_delta=True)\n",
    "attr = attr[0].detach().numpy()\n",
    "print(attr)"
   ]
  },
  {
   "cell_type": "code",
   "execution_count": 92,
   "metadata": {
    "scrolled": true
   },
   "outputs": [],
   "source": [
    "%matplotlib qt \n",
    "# attr = attr[0].detach().numpy()\n",
    "from matplotlib import pyplot as plt\n",
    "\n",
    "def visualize_importances(feature_names, importances, title=\"Average Feature Importances\", plot=True, axis_title=\"Features\"):\n",
    "    print(title)\n",
    "    for i in range(len(feature_names)):\n",
    "        print(feature_names[i], \": \", '%.3f'%(importances[i]))\n",
    "    x_pos = (np.arange(len(feature_names)))\n",
    "    if plot:\n",
    "        plt.figure(figsize=(12,8))\n",
    "        plt.bar(x_pos, importances, align='center', color='#DBDBA7')\n",
    "        plt.xticks(x_pos, feature_names, rotation=45, ha=\"right\", fontsize=19)\n",
    "        plt.yticks(fontsize=20)\n",
    "        \n",
    "        plt.xlabel(axis_title,fontsize=20)\n",
    "        plt.ylabel('Integrated Gradient',fontsize=20)\n",
    "#         plt.ylim(-4.5,4.5)\n",
    "        plt.tight_layout()\n",
    "\n",
    "#         plt.title(title)\n",
    "#     plt.show()\n"
   ]
  },
  {
   "cell_type": "code",
   "execution_count": 95,
   "metadata": {},
   "outputs": [
    {
     "name": "stdout",
     "output_type": "stream",
     "text": [
      "Average Feature Importances\n",
      "Vocabulary Knowledge :  0.191\n",
      "Phonological Awareness :  -0.064\n",
      "Syntax Awareness :  0.760\n",
      "Working Memory :  0.776\n",
      "Word Reading Fluency :  0.041\n",
      "Word Reading Accuracy :  0.849\n",
      "Sentence Complexity ($\\it{M}$) :  3.964\n",
      "Sentence Complexity ($\\it{SD}$) :  0.722\n",
      "Sentence Complexity ($\\it{max}$) :  -3.751\n",
      "Lexical Surprisal ($\\it{M}$) :  0.076\n",
      "Lexical Surprisal ($\\it{SD}$) :  -0.097\n",
      "Lexical Surprisal ($\\it{max}$) :  -0.176\n",
      "Rare Word Use :  -0.103\n",
      "Question Complexity :  -2.676\n"
     ]
    }
   ],
   "source": [
    "visualize_importances(feature_names, np.mean(attr, axis=0))"
   ]
  },
  {
   "cell_type": "markdown",
   "metadata": {},
   "source": [
    "### Simple NN model without text embeddings"
   ]
  },
  {
   "cell_type": "code",
   "execution_count": 66,
   "metadata": {},
   "outputs": [],
   "source": [
    "class SimpleNet(nn.Module):\n",
    "    def __init__(self, skill_dim):\n",
    "        super().__init__()\n",
    "        self.fc_skill = nn.Linear(skill_dim,skill_dim*2)\n",
    "        self.relu = nn.ReLU()\n",
    "        self.fc2 = nn.Linear(skill_dim*2,12)\n",
    "        self.out = nn.Linear(12,1)\n",
    "        self.skill_dim = skill_dim\n",
    "        \n",
    "    def forward(self, skills):\n",
    "        x1 = self.fc_skill(skills[:,:self.skill_dim])\n",
    "        x = self.fc2(self.relu(x1))\n",
    "        pred = self.out(self.relu(x))\n",
    "        return pred"
   ]
  },
  {
   "cell_type": "code",
   "execution_count": 67,
   "metadata": {},
   "outputs": [],
   "source": [
    "class SimpleNet_wr(nn.Module): # word rarity model\n",
    "    def __init__(self, skill_dim):\n",
    "        super().__init__()\n",
    "        self.fc_skill = nn.Linear(skill_dim,skill_dim*2)\n",
    "        self.relu = nn.ReLU()\n",
    "        self.fc2 = nn.Linear(skill_dim*2,24)\n",
    "        self.out = nn.Linear(24,1)\n",
    "        self.skill_dim = skill_dim\n",
    "        \n",
    "    def forward(self, skills):\n",
    "        x1 = self.fc_skill(skills[:,[0,1,2,3,4,5,6,7,8,13]])\n",
    "#         x1 = self.fc_skill(skills[:,[0,1,2,3,4,5,9,10,11]])\n",
    "        x = self.fc2(self.relu(x1))\n",
    "        pred = self.out(self.relu(x))\n",
    "        return pred"
   ]
  },
  {
   "cell_type": "code",
   "execution_count": 68,
   "metadata": {},
   "outputs": [],
   "source": [
    "class SimpleNet_surp(nn.Module): # word surprisal model\n",
    "    def __init__(self, skill_dim):\n",
    "        super().__init__()\n",
    "        self.fc_skill = nn.Linear(skill_dim,skill_dim*2)\n",
    "        self.relu = nn.ReLU()\n",
    "        self.fc2 = nn.Linear(skill_dim*2,24)\n",
    "        self.out = nn.Linear(24,1)\n",
    "        self.skill_dim = skill_dim\n",
    "        \n",
    "    def forward(self, skills):\n",
    "#         x1 = self.fc_skill(skills[:,[0,1,2,3,4,5,6,7,8,13]])\n",
    "        x1 = self.fc_skill(skills[:,[0,1,2,3,4,5,9,10,11]])\n",
    "        x = self.fc2(self.relu(x1))\n",
    "        pred = self.out(self.relu(x))\n",
    "        return pred"
   ]
  },
  {
   "cell_type": "code",
   "execution_count": 69,
   "metadata": {},
   "outputs": [],
   "source": [
    "def train_simple(model, data, optimizer, criterion):\n",
    "    \n",
    "    epoch_loss = 0\n",
    "    epoch_acc = 0\n",
    "    \n",
    "    model.train()\n",
    "        \n",
    "    optimizer.zero_grad()\n",
    "    \n",
    "    predictions = model(data['skills']).squeeze(1)\n",
    "\n",
    "    loss = criterion(predictions, data['y'])\n",
    "    \n",
    "\n",
    "    acc = binary_accuracy(predictions, data['y'])\n",
    "    \n",
    "\n",
    "    loss.backward()\n",
    "\n",
    "    optimizer.step()\n",
    "\n",
    "#     epoch_loss += loss.item()\n",
    "#     epoch_acc += acc.item()\n",
    "#     print(loss)\n",
    "#     print(acc)\n",
    "    return loss,acc "
   ]
  },
  {
   "cell_type": "code",
   "execution_count": 70,
   "metadata": {},
   "outputs": [],
   "source": [
    "def evaluate_simple(model, data, criterion, matrix=False):\n",
    "    \n",
    "    model.eval()\n",
    "    \n",
    "    with torch.no_grad():\n",
    "\n",
    "        predictions = model(data['skills']).squeeze(1)\n",
    "        \n",
    "#         print('eval pred',predictions)\n",
    "\n",
    "        loss = criterion(predictions, data['y'])\n",
    "#         print('eval1',data[4])\n",
    "#         print('eval',(data[4]==0).sum())\n",
    "        acc = binary_accuracy(predictions, data['y'])\n",
    "        \n",
    "        prec = precision(predictions, data['y'])\n",
    "        \n",
    "        rec = recall(predictions, data['y'])\n",
    "        \n",
    "        if matrix:\n",
    "            confusion_matrix(predictions, data['y'])\n",
    "        \n",
    "#         print(f\"Number of positives: {(data[4]==1).sum()}\")\n",
    "#         print(f\"Number of negatives: {(data[4]==0).sum()}\")\n",
    "\n",
    "        \n",
    "    return loss, acc, prec, rec"
   ]
  },
  {
   "cell_type": "code",
   "execution_count": 90,
   "metadata": {},
   "outputs": [
    {
     "name": "stdout",
     "output_type": "stream",
     "text": [
      "(tensor(0.6187), tensor(0.6709), 0.6717112922002328, 0.7893296853625171)\n",
      "[[ 0.20634081  0.66255721  0.49575711 ...  0.          0.\n",
      "  -0.34858782]\n",
      " [ 0.22632155  0.38788487  0.30227968 ...  0.          0.\n",
      "  -0.47435822]\n",
      " [ 0.26722104  0.55789124  0.30414442 ...  0.          0.\n",
      "  -0.55281681]\n",
      " ...\n",
      " [ 0.33045997  0.28107825  0.42739872 ...  0.          0.\n",
      "  -0.33459836]\n",
      " [ 0.21858553  0.21510565  0.18361441 ...  0.          0.\n",
      "  -0.37275225]\n",
      " [ 0.28590203  0.59601692  0.42499106 ...  0.          0.\n",
      "  -0.58321642]]\n"
     ]
    }
   ],
   "source": [
    "from captum.attr import IntegratedGradients\n",
    "model = SimpleNet_wr(10)\n",
    "# model = SimpleNet(6)\n",
    "\n",
    "model.load_state_dict(torch.load('sentence_complex.pt'))\n",
    "\n",
    "criterion = nn.BCEWithLogitsLoss()\n",
    "print(evaluate_simple(model,test_ds,criterion,matrix=False))\n",
    "\n",
    "ig = IntegratedGradients(model)\n",
    "test_ds['skills'].requires_grad_()\n",
    "\n",
    "\n",
    "\n",
    "attr,delta = ig.attribute(test_ds['skills'],return_convergence_delta=True)\n",
    "attr = attr.detach().numpy()\n",
    "print(attr)"
   ]
  },
  {
   "cell_type": "code",
   "execution_count": null,
   "metadata": {},
   "outputs": [],
   "source": [
    "SimpleNet_surp"
   ]
  },
  {
   "cell_type": "code",
   "execution_count": 81,
   "metadata": {},
   "outputs": [
    {
     "name": "stdout",
     "output_type": "stream",
     "text": [
      "(tensor(0.5901), tensor(0.6898), 0.694647201946472, 0.7811217510259918)\n",
      "[[-0.01690678 -0.52970018  1.11474143 ... -0.12971833  0.\n",
      "   0.        ]\n",
      " [-0.01788381 -0.3447793   0.66400647 ... -0.47709763  0.\n",
      "   0.        ]\n",
      " [-0.04691937 -0.45305758  0.5677488  ... -0.49554371  0.\n",
      "   0.        ]\n",
      " ...\n",
      " [-0.0599468  -0.20508376  0.91505732 ... -0.12124223  0.\n",
      "   0.        ]\n",
      " [-0.09065155 -0.14235286  0.28001602 ... -0.10747046  0.\n",
      "   0.        ]\n",
      " [ 0.1051948  -0.32046524  0.90409662 ... -0.0961666   0.\n",
      "   0.        ]]\n"
     ]
    }
   ],
   "source": [
    "model = SimpleNet_surp(9)\n",
    "# model = SimpleNet(6)\n",
    "\n",
    "model.load_state_dict(torch.load('surprisal.pt'))\n",
    "\n",
    "criterion = nn.BCEWithLogitsLoss()\n",
    "print(evaluate_simple(model,test_ds,criterion,matrix=False))\n",
    "\n",
    "ig = IntegratedGradients(model)\n",
    "test_ds['skills'].requires_grad_()\n",
    "\n",
    "\n",
    "\n",
    "attr,delta = ig.attribute(test_ds['skills'],return_convergence_delta=True)\n",
    "attr = attr.detach().numpy()\n",
    "print(attr)"
   ]
  },
  {
   "cell_type": "code",
   "execution_count": 91,
   "metadata": {},
   "outputs": [
    {
     "name": "stdout",
     "output_type": "stream",
     "text": [
      "Vocabulary Knowledge :  0.223\n",
      "Phonological Awareness :  0.419\n",
      "Syntax Awareness :  0.289\n",
      "Working Memory :  0.304\n",
      "Word Reading Fluency :  0.184\n",
      "Word Reading Accuracy :  0.463\n",
      "Sentence Complexity ($\\it{M}$) :  -0.209\n",
      "Sentence Complexity ($\\it{SD}$) :  -0.349\n",
      "Sentence Complexity ($\\it{max}$) :  -0.483\n",
      "Question Complexity :  -0.499\n"
     ]
    }
   ],
   "source": [
    "# visualize_importances(feature_names[:6], np.mean(attr, axis=0)[0,1,2,3,4,5,6,7,8,-1])\n",
    "indices = [0,1,2,3,4,5,6,7,8,13]#[0,1,2,3,4,5,9,10,11]#[0,1,2,3,4,5,6,7,8,13]\n",
    "title=\"Average Feature Importances\"\n",
    "plot=True\n",
    "axis_title=\"Features\"\n",
    "new_f_names =[]\n",
    "importances = np.mean(attr, axis=0)[indices]\n",
    "for i,name in enumerate(feature_names):\n",
    "    if i in indices:\n",
    "        new_f_names.append(name)\n",
    "        \n",
    "for i in range(len(new_f_names)):\n",
    "    print(new_f_names[i], \": \", '%.3f'%(importances[i]))\n",
    "x_pos = (np.arange(len(new_f_names)))\n",
    "if plot:\n",
    "#     plt.figure(figsize=(12,6))\n",
    "#     plt.bar(x_pos, importances, align='center')\n",
    "#     plt.xticks(x_pos, new_f_names, rotation='vertical')\n",
    "#     plt.xlabel(axis_title)\n",
    "#     plt.ylim(-4.5,4.5)\n",
    "#     plt.title(title)\n",
    "    \n",
    "    plt.figure(figsize=(12,8))\n",
    "    plt.bar(x_pos, importances, align='center', color='#DBDBA7')\n",
    "    plt.xticks(x_pos, new_f_names, rotation=45, ha=\"right\", fontsize=20)\n",
    "    plt.yticks(fontsize=20)\n",
    "    plt.xlabel(axis_title,fontsize=20)\n",
    "    plt.ylabel('Integrated Gradient', fontsize=20)\n",
    "    plt.ylim(-4.5,4.5)\n",
    "    plt.tight_layout()\n",
    "    \n"
   ]
  },
  {
   "cell_type": "code",
   "execution_count": 72,
   "metadata": {
    "scrolled": false
   },
   "outputs": [
    {
     "name": "stdout",
     "output_type": "stream",
     "text": [
      "Run 0\n",
      "[0.652075469493866, 0.6467836257309941, 0.776685393258427, 0, 250]\n",
      "Run 1\n",
      "[0.6671698093414307, 0.6630565583634176, 0.773876404494382, 0, 275]\n",
      "Run 2\n",
      "[0.6686792373657227, 0.6844660194174758, 0.7590847913862718, 0, 250]\n",
      "Run 3\n",
      "[0.6649056673049927, 0.6707317073170732, 0.7596685082872928, 0, 275]\n",
      "Run 4\n",
      "[0.6437735557556152, 0.6460396039603961, 0.7372881355932204, 0, 275]\n",
      "Run 5\n",
      "[0.6709433794021606, 0.681024447031432, 0.7831325301204819, 0, 250]\n",
      "Run 6\n",
      "[0.653584897518158, 0.6556603773584906, 0.7690179806362379, 0, 275]\n",
      "Run 7\n",
      "[0.6694339513778687, 0.682983682983683, 0.7792553191489362, 0, 275]\n",
      "Run 8\n",
      "[0.6686792373657227, 0.6727272727272727, 0.7665745856353591, 0, 250]\n",
      "Run 9\n",
      "[0.6709433794021606, 0.6717112922002328, 0.7893296853625171, 0, 250]\n"
     ]
    }
   ],
   "source": [
    "max_epochs = 300\n",
    "ep_log_interval = 25\n",
    "lrn_rate = 0.001\n",
    "skill_dim = 10\n",
    "verbose = False\n",
    "\n",
    "model_results = []\n",
    "\n",
    "\n",
    "for i in range(10):\n",
    "    max_stats = [0,0,0,0,0] # each position represents acc, prec, recall, f1, epoch number respectively\n",
    "    print(f\"Run {i}\")\n",
    "    # Get training and testing data\n",
    "    train_data, test_data = train_test_split(data, test_size=0.2, random_state = i)\n",
    "    \n",
    "    # fix layer initialization\n",
    "    torch.manual_seed(1)\n",
    "#     net = SimpleNet(skill_dim)\n",
    "    net = SimpleNet_wr(skill_dim)\n",
    "    criterion = nn.BCEWithLogitsLoss() #BCEWithLogitsLoss()\n",
    "    optimizer = optim.Adam(net.parameters(), lr=lrn_rate)\n",
    "    train_ds = create_tensors(train_data)\n",
    "    test_ds = create_tensors(test_data)\n",
    "\n",
    "    \n",
    "    for epoch in range(max_epochs):\n",
    "        train_loss, train_acc = train_simple(net,train_ds,optimizer,criterion)\n",
    "\n",
    "        if epoch % ep_log_interval == 0:\n",
    "            \n",
    "            valid_loss, valid_acc, prec, rec = evaluate_simple(net,test_ds,criterion,matrix=False)\n",
    "            if verbose:\n",
    "                print(f'Epoch: {epoch}')\n",
    "                print(f'\\tTrain Loss: {train_loss:.3f} | Train Acc: {train_acc*100:.2f}%')\n",
    "                print(f'\\t Val. Loss: {valid_loss:.3f} |  Val. Acc: {valid_acc*100:.2f}%')\n",
    "                print('precision: ', prec)\n",
    "                print('recall: ', rec)\n",
    "                try:\n",
    "                    f1 = 2*(prec*rec)/(prec+rec)\n",
    "                    print(f\"f1 = {f1}\")\n",
    "                except:\n",
    "                    continue\n",
    "            if valid_acc > max_stats[0]:\n",
    "                max_stats[0] = float(valid_acc)\n",
    "                max_stats[1] = prec\n",
    "                max_stats[2] = rec\n",
    "                max_stats[4] = epoch\n",
    "                torch.save(net.state_dict(), 'sentence_complex.pt')\n",
    "                \n",
    "    print(max_stats)        \n",
    "    model_results.append(max_stats)\n",
    "\n",
    "\n"
   ]
  },
  {
   "cell_type": "code",
   "execution_count": 26,
   "metadata": {},
   "outputs": [
    {
     "name": "stdout",
     "output_type": "stream",
     "text": [
      "(10, 5)\n",
      "mean [  0.67524529   0.68394467   0.75939413   0.         235.        ]\n",
      "std [8.26786839e-03 1.23020716e-02 1.54307454e-02 0.00000000e+00\n",
      " 2.29128785e+01]\n"
     ]
    }
   ],
   "source": [
    "new_result = np.asarray(model_results)\n",
    "print(new_result.shape)\n",
    "print(\"mean\",np.mean(new_result,axis=0))\n",
    "print(\"std\",np.std(new_result,axis=0))"
   ]
  },
  {
   "cell_type": "code",
   "execution_count": 109,
   "metadata": {
    "scrolled": true
   },
   "outputs": [
    {
     "name": "stdout",
     "output_type": "stream",
     "text": [
      "(10, 5)\n",
      "mean [  0.67667924   0.68362236   0.76535506   0.         210.        ]\n",
      "std [8.87362400e-03 1.20271144e-02 1.59176440e-02 0.00000000e+00\n",
      " 4.21307489e+01]\n"
     ]
    }
   ],
   "source": [
    "new_result = np.asarray(model_results)\n",
    "print(new_result.shape)\n",
    "print(\"mean\",np.mean(new_result,axis=0))\n",
    "print(\"std\",np.std(new_result,axis=0))"
   ]
  },
  {
   "cell_type": "markdown",
   "metadata": {},
   "source": [
    "## Error analysis"
   ]
  },
  {
   "cell_type": "code",
   "execution_count": 34,
   "metadata": {},
   "outputs": [
    {
     "data": {
      "text/plain": [
       "(tensor(0.7138), tensor(0.4657), 0.0, 0.0)"
      ]
     },
     "execution_count": 34,
     "metadata": {},
     "output_type": "execute_result"
    }
   ],
   "source": [
    "train_data, test_data = train_test_split(data, test_size=0.2, random_state = 4)\n",
    "test_ds = create_tensors(test_data)\n",
    "model_2 = SimpleNet(6)\n",
    "model_2.load_state_dict(torch.load('basemodel_full.pt'))\n",
    "evaluate_simple(model_2,test_ds,criterion,matrix=False)\n"
   ]
  },
  {
   "cell_type": "code",
   "execution_count": 35,
   "metadata": {},
   "outputs": [],
   "source": [
    "def McNemar_test(pred_1,pred_2,y):\n",
    "    rounded_preds_1 = torch.round(torch.sigmoid(pred_1))\n",
    "    correct_1 = rounded_preds_1 == y\n",
    "    \n",
    "    rounded_preds_2 = torch.round(torch.sigmoid(pred_2))\n",
    "    correct_2 = rounded_preds_2 == y\n",
    "    \n",
    "    tl = 0\n",
    "    tr = 0\n",
    "    bl = 0\n",
    "    br = 0\n",
    "    \n",
    "    a = []\n",
    "    b = []\n",
    "    c = []\n",
    "    d = []\n",
    "    \n",
    "    for i in range(len(correct_1)):\n",
    "        if correct_1[i] == 1 and correct_2[i] == 1:\n",
    "            tl += 1\n",
    "            a.append(i)\n",
    "        elif correct_1[i] == 1 and correct_2[i] == 0:\n",
    "            tr += 1\n",
    "            b.append(i)\n",
    "        elif correct_1[i] == 0 and correct_2[i] == 1:\n",
    "            bl += 1\n",
    "            c.append(i)\n",
    "        elif correct_1[i] == 0 and correct_2[i] == 0:\n",
    "            br += 1\n",
    "            d.append(i)\n",
    "        else:\n",
    "            print('Unexpected value in counting correctness',correct_1[i],correct_2[i])\n",
    "    \n",
    "    t = PrettyTable(['', 'Model 2 Correct', 'Model 2 Wrong'])\n",
    "    t.add_row(['Model 1 Correct', tl, tr])\n",
    "    t.add_row(['Model 1 Wrong', bl, br])\n",
    "    print(t)\n",
    "    return tr,bl, [a,b,c,d]"
   ]
  },
  {
   "cell_type": "code",
   "execution_count": 166,
   "metadata": {},
   "outputs": [
    {
     "name": "stdout",
     "output_type": "stream",
     "text": [
      "+-----------------+-----------------+---------------+\n",
      "|                 | Model 2 Correct | Model 2 Wrong |\n",
      "+-----------------+-----------------+---------------+\n",
      "| Model 1 Correct |       784       |      129      |\n",
      "|  Model 1 Wrong  |        97       |      315      |\n",
      "+-----------------+-----------------+---------------+\n",
      "McNemar test statistic: 4.252212389380531\n",
      "p-value: 0.0391992323727306\n"
     ]
    }
   ],
   "source": [
    "from scipy.stats.distributions import chi2\n",
    "# model_1 = SimpleNet_wr(7)\n",
    "# model_1.load_state_dict(torch.load('vocab_rare.pt'))\n",
    "# model_1 = SimpleNet_surp(9)\n",
    "# model_1.load_state_dict(torch.load('surprisal.pt'))\n",
    "model_1 = BertModel(64,14,0.2)\n",
    "model_1.load_state_dict(torch.load('full.pt'))\n",
    "# model_1 = BertModel(64,6,0.2)\n",
    "# model_1.load_state_dict(torch.load('sentence_embed.pt'))\n",
    "model_2 = SimpleNet(6)\n",
    "model_2.load_state_dict(torch.load('basemodel.pt'))\n",
    "# model_2 = BertModel(64,6,0.2)\n",
    "# model_2.load_state_dict(torch.load('sentence_embed.pt'))\n",
    "\n",
    "with open(\"data.pkl\",'rb') as fp:\n",
    "    data = pickle.load(fp)\n",
    "train_data, test_data = train_test_split(data, test_size=0.2, random_state = 4)\n",
    "test_ds = create_tensors(test_data)\n",
    "\n",
    "\n",
    "\n",
    "model_1.eval()\n",
    "model_2.eval()\n",
    "pred_1 = model_1(test_ds['skills'],test_ds['subtests'],test_ds['questions']).squeeze(1)\n",
    "# pred_1 = model_1(test_ds['skills']).squeeze(1)\n",
    "\n",
    "pred_2 = model_2(test_ds['skills']).squeeze(1)\n",
    "# pred_2 = model_2(test_ds['skills'],test_ds['subtests'],test_ds['questions']).squeeze(1)\n",
    "\n",
    "b,c,index_table = McNemar_test(pred_1,pred_2,test_ds['y'])\n",
    "\n",
    "chi_sq = (abs(b-c)-1)**2\n",
    "chi_sq = chi_sq/(b+c)\n",
    "\n",
    "print('McNemar test statistic:', chi_sq)\n",
    "\n",
    "print('p-value:', chi2.sf(chi_sq, 1))"
   ]
  },
  {
   "cell_type": "code",
   "execution_count": 96,
   "metadata": {
    "scrolled": false
   },
   "outputs": [
    {
     "name": "stdout",
     "output_type": "stream",
     "text": [
      "torch.Size([129, 14])\n",
      "[0.45047352 0.6207752  0.51771885 0.45219633 0.46834636 0.73730624]\n",
      "[0.17011869 0.21154872 0.17429112 0.16020443 0.14309908 0.08779691]\n"
     ]
    },
    {
     "data": {
      "image/png": "[encoded data removed]",
      "text/plain": [
       "<Figure size 432x288 with 1 Axes>"
      ]
     },
     "metadata": {
      "needs_background": "light"
     },
     "output_type": "display_data"
    }
   ],
   "source": [
    "students_skills = test_ds['skills'][index_table[1]]\n",
    "print(students_skills.shape)\n",
    "pre_skills = students_skills[:,:6].numpy()\n",
    "print(np.mean(pre_skills,axis=0))\n",
    "print(np.std(pre_skills,axis=0))\n",
    "\n",
    "# for i in range(6):\n",
    "#     plt.boxplot(pre_skills[:,i])\n",
    "plt.boxplot(pre_skills, vert=True, patch_artist=True, labels=feature_names[:6])\n",
    "plt.xticks(rotation='vertical')\n",
    "plt.yticks(np.arange(0,1.1,0.1))\n",
    "plt.axhline(y=0.5, color='r', linestyle='-')\n",
    "plt.show()"
   ]
  },
  {
   "cell_type": "code",
   "execution_count": 121,
   "metadata": {
    "scrolled": false
   },
   "outputs": [
    {
     "data": {
      "image/png": "[encoded data removed]",
      "text/plain": [
       "<Figure size 432x288 with 1 Axes>"
      ]
     },
     "metadata": {
      "needs_background": "light"
     },
     "output_type": "display_data"
    },
    {
     "data": {
      "text/plain": [
       "<Figure size 300x2000 with 0 Axes>"
      ]
     },
     "metadata": {},
     "output_type": "display_data"
    }
   ],
   "source": [
    "data_a = students_skills[:,:6].numpy()\n",
    "data_b = test_ds['skills'][:,:6].numpy()\n",
    "\n",
    "ticks = feature_names[:6]\n",
    "\n",
    "def set_box_color(bp, color):\n",
    "    plt.setp(bp['boxes'], color=color)\n",
    "    plt.setp(bp['whiskers'], color=color)\n",
    "    plt.setp(bp['caps'], color=color)\n",
    "    plt.setp(bp['medians'], color=color)\n",
    "\n",
    "plt.figure()\n",
    "\n",
    "bpl = plt.boxplot(data_a, positions=np.array(range(data_a.shape[1]))*2.0-0.4, sym='', widths=0.6)\n",
    "bpr = plt.boxplot(data_b, positions=np.array(range(data_b.shape[1]))*2.0+0.4, sym='', widths=0.6)\n",
    "set_box_color(bpl, '#D7191C') # colors are from http://colorbrewer2.org/\n",
    "set_box_color(bpr, '#2C7BB6')\n",
    "\n",
    "# draw temporary red and blue lines and use them to create a legend\n",
    "plt.plot([], c='#D7191C', label='Interested')\n",
    "plt.plot([], c='#2C7BB6', label='Overall')\n",
    "plt.legend()\n",
    "\n",
    "plt.xticks(range(0, len(ticks) * 2, 2), ticks)\n",
    "plt.xlim(-2, len(ticks)*2)\n",
    "plt.xticks(rotation='vertical')\n",
    "plt.yticks(np.arange(0,1.1,0.1))\n",
    "plt.title(\"Individual knowledge and sub-skill measures\")\n",
    "plt.figure(figsize=(3, 20),dpi = 100)\n",
    "\n",
    "# plt.tight_layout()\n",
    "# plt.savefig('boxcompare.png')\n",
    "plt.show()"
   ]
  },
  {
   "cell_type": "code",
   "execution_count": 143,
   "metadata": {
    "scrolled": true
   },
   "outputs": [
    {
     "data": {
      "image/png": "[encoded data removed]",
      "text/plain": [
       "<Figure size 432x288 with 1 Axes>"
      ]
     },
     "metadata": {
      "needs_background": "light"
     },
     "output_type": "display_data"
    },
    {
     "data": {
      "image/png": "[encoded data removed]",
      "text/plain": [
       "<Figure size 432x288 with 1 Axes>"
      ]
     },
     "metadata": {
      "needs_background": "light"
     },
     "output_type": "display_data"
    },
    {
     "data": {
      "image/png": "[encoded data removed]",
      "text/plain": [
       "<Figure size 432x288 with 1 Axes>"
      ]
     },
     "metadata": {
      "needs_background": "light"
     },
     "output_type": "display_data"
    },
    {
     "data": {
      "image/png": "[encoded data removed]",
      "text/plain": [
       "<Figure size 432x288 with 1 Axes>"
      ]
     },
     "metadata": {
      "needs_background": "light"
     },
     "output_type": "display_data"
    },
    {
     "data": {
      "image/png": "[encoded data removed]",
      "text/plain": [
       "<Figure size 432x288 with 1 Axes>"
      ]
     },
     "metadata": {
      "needs_background": "light"
     },
     "output_type": "display_data"
    },
    {
     "data": {
      "image/png": "[encoded data removed]",
      "text/plain": [
       "<Figure size 432x288 with 1 Axes>"
      ]
     },
     "metadata": {
      "needs_background": "light"
     },
     "output_type": "display_data"
    },
    {
     "name": "stderr",
     "output_type": "stream",
     "text": [
      "<ipython-input-143-4f97a6b31b97>:27: RuntimeWarning: invalid value encountered in true_divide\n",
      "  plt.bar(center, hist1/hist2, align='center', width=width)\n"
     ]
    },
    {
     "data": {
      "image/png": "[encoded data removed]",
      "text/plain": [
       "<Figure size 432x288 with 1 Axes>"
      ]
     },
     "metadata": {
      "needs_background": "light"
     },
     "output_type": "display_data"
    },
    {
     "data": {
      "image/png": "[encoded data removed]",
      "text/plain": [
       "<Figure size 432x288 with 1 Axes>"
      ]
     },
     "metadata": {
      "needs_background": "light"
     },
     "output_type": "display_data"
    },
    {
     "data": {
      "image/png": "[encoded data removed]",
      "text/plain": [
       "<Figure size 432x288 with 1 Axes>"
      ]
     },
     "metadata": {
      "needs_background": "light"
     },
     "output_type": "display_data"
    },
    {
     "data": {
      "image/png": "[encoded data removed]",
      "text/plain": [
       "<Figure size 432x288 with 1 Axes>"
      ]
     },
     "metadata": {
      "needs_background": "light"
     },
     "output_type": "display_data"
    },
    {
     "data": {
      "image/png": "[encoded data removed]",
      "text/plain": [
       "<Figure size 432x288 with 1 Axes>"
      ]
     },
     "metadata": {
      "needs_background": "light"
     },
     "output_type": "display_data"
    },
    {
     "data": {
      "image/png": "[encoded data removed]",
      "text/plain": [
       "<Figure size 432x288 with 1 Axes>"
      ]
     },
     "metadata": {
      "needs_background": "light"
     },
     "output_type": "display_data"
    },
    {
     "data": {
      "image/png": "[encoded data removed]",
      "text/plain": [
       "<Figure size 432x288 with 1 Axes>"
      ]
     },
     "metadata": {
      "needs_background": "light"
     },
     "output_type": "display_data"
    },
    {
     "data": {
      "image/png": "[encoded data removed]",
      "text/plain": [
       "<Figure size 432x288 with 1 Axes>"
      ]
     },
     "metadata": {
      "needs_background": "light"
     },
     "output_type": "display_data"
    }
   ],
   "source": [
    "def get_distributions(index_list,dataset,feature_names):\n",
    "    data_list = []\n",
    "    dataset = np.asarray(dataset)\n",
    "    for i in index_list:\n",
    "        data_list.append(list(dataset[i]))\n",
    "    data_list = np.asarray(data_list)\n",
    "    \n",
    "    for i in range(data_list.shape[1]):\n",
    "        new_array = data_list[:,i]\n",
    "#         print(new_array)\n",
    "#         histo = np.histogram(new_array)\n",
    "#         print(histo)\n",
    "#         _ = plt.hist(new_array,range=(dataset[:,i].min(),dataset[:,i].max()))\n",
    "#         plt.hist(new_array,range=(dataset[:,i].min(),dataset[:,i].max()))\n",
    "#         plt.ylim(ymax = 350)\n",
    "#         plt.title(feature_names[i]+ ' (Interested Entries)')\n",
    "#         plt.show()\n",
    "#         plt.hist(dataset[:,i],range=(dataset[:,i].min(),dataset[:,i].max()))\n",
    "#         plt.ylim(ymax = 350)\n",
    "        \n",
    "        hist1,bins1 = np.histogram(new_array)\n",
    "\n",
    "        width = 0.7 * (bins1[1] - bins1[0])\n",
    "        center = (bins1[:-1] + bins1[1:]) / 2\n",
    "        \n",
    "        hist2,bins2 = np.histogram(dataset[:,i],bins = bins1)\n",
    "        plt.bar(center, hist1/hist2, align='center', width=width)\n",
    "        plt.title(feature_names[i])\n",
    "        plt.show()\n",
    "\n",
    "get_distributions(index_table[1],test_ds['skills'],feature_names)"
   ]
  },
  {
   "cell_type": "code",
   "execution_count": 11,
   "metadata": {},
   "outputs": [],
   "source": [
    "with open(\"data.pkl\",'rb') as fp:\n",
    "    data = pickle.load(fp)\n",
    "train_data, test_data = train_test_split(data, test_size=0.2, random_state = 50)\n",
    "test_ds = create_tensors(test_data)"
   ]
  },
  {
   "cell_type": "code",
   "execution_count": 147,
   "metadata": {},
   "outputs": [
    {
     "name": "stdout",
     "output_type": "stream",
     "text": [
      "torch.Size([1325])\n",
      "412\n"
     ]
    }
   ],
   "source": [
    "# test_model = SimpleNet_wr(7)\n",
    "# test_model.load_state_dict(torch.load('vocab_rare.pt'))\n",
    "# model_2 = SimpleNet(6)\n",
    "# model_2.load_state_dict(torch.load('basemodel.pt'))\n",
    "\n",
    "# test_model = SimpleNet_surp(9)\n",
    "# test_model.load_state_dict(torch.load('surprisal.pt'))\n",
    "\n",
    "# model_1 = BertModel(64,14,0.2)\n",
    "# model_1.load_state_dict(torch.load('full.pt'))\n",
    "test_model = BertModel(64,14,0.2)\n",
    "test_model.load_state_dict(torch.load('full.pt'))\n",
    "\n",
    "test_model.eval()\n",
    "\n",
    "pred_1 = test_model(test_ds['skills'],test_ds['subtests'],test_ds['questions']).squeeze(1)\n",
    "# pred_1 = test_model(test_ds['skills']).squeeze(1)\n",
    "y = test_ds['y']\n",
    "\n",
    "rounded_preds_1 = torch.round(torch.sigmoid(pred_1))\n",
    "correct_1 = rounded_preds_1 == y\n",
    "err_index = []\n",
    "for i in range(correct_1.shape[0]):\n",
    "    if correct_1[i] == False:\n",
    "        err_index.append(i)\n",
    "print(correct_1.shape)\n",
    "print(len(err_index))"
   ]
  },
  {
   "cell_type": "code",
   "execution_count": 167,
   "metadata": {
    "scrolled": false
   },
   "outputs": [
    {
     "name": "stdout",
     "output_type": "stream",
     "text": [
      "0.09740259740259741\n"
     ]
    },
    {
     "data": {
      "image/png": "[encoded data removed]",
      "text/plain": [
       "<Figure size 432x288 with 1 Axes>"
      ]
     },
     "metadata": {
      "needs_background": "light"
     },
     "output_type": "display_data"
    },
    {
     "name": "stdout",
     "output_type": "stream",
     "text": [
      "0.08433734939759036\n"
     ]
    },
    {
     "data": {
      "image/png": "[encoded data removed]",
      "text/plain": [
       "<Figure size 432x288 with 1 Axes>"
      ]
     },
     "metadata": {
      "needs_background": "light"
     },
     "output_type": "display_data"
    },
    {
     "name": "stdout",
     "output_type": "stream",
     "text": [
      "0.07575757575757576\n"
     ]
    },
    {
     "data": {
      "image/png": "[encoded data removed]",
      "text/plain": [
       "<Figure size 432x288 with 1 Axes>"
      ]
     },
     "metadata": {
      "needs_background": "light"
     },
     "output_type": "display_data"
    },
    {
     "name": "stdout",
     "output_type": "stream",
     "text": [
      "0.0273972602739726\n"
     ]
    },
    {
     "data": {
      "image/png": "[encoded data removed]",
      "text/plain": [
       "<Figure size 432x288 with 1 Axes>"
      ]
     },
     "metadata": {
      "needs_background": "light"
     },
     "output_type": "display_data"
    },
    {
     "name": "stdout",
     "output_type": "stream",
     "text": [
      "0.07092198581560284\n"
     ]
    },
    {
     "data": {
      "image/png": "[encoded data removed]",
      "text/plain": [
       "<Figure size 432x288 with 1 Axes>"
      ]
     },
     "metadata": {
      "needs_background": "light"
     },
     "output_type": "display_data"
    },
    {
     "name": "stdout",
     "output_type": "stream",
     "text": [
      "0.07386363636363637\n"
     ]
    },
    {
     "data": {
      "image/png": "[encoded data removed]",
      "text/plain": [
       "<Figure size 432x288 with 1 Axes>"
      ]
     },
     "metadata": {
      "needs_background": "light"
     },
     "output_type": "display_data"
    },
    {
     "name": "stdout",
     "output_type": "stream",
     "text": [
      "0.06578947368421052\n"
     ]
    },
    {
     "data": {
      "image/png": "[encoded data removed]",
      "text/plain": [
       "<Figure size 432x288 with 1 Axes>"
      ]
     },
     "metadata": {
      "needs_background": "light"
     },
     "output_type": "display_data"
    },
    {
     "name": "stdout",
     "output_type": "stream",
     "text": [
      "0.044444444444444446\n"
     ]
    },
    {
     "data": {
      "image/png": "[encoded data removed]",
      "text/plain": [
       "<Figure size 432x288 with 1 Axes>"
      ]
     },
     "metadata": {
      "needs_background": "light"
     },
     "output_type": "display_data"
    },
    {
     "name": "stdout",
     "output_type": "stream",
     "text": [
      "0.050724637681159424\n"
     ]
    },
    {
     "data": {
      "image/png": "[encoded data removed]",
      "text/plain": [
       "<Figure size 432x288 with 1 Axes>"
      ]
     },
     "metadata": {
      "needs_background": "light"
     },
     "output_type": "display_data"
    },
    {
     "name": "stdout",
     "output_type": "stream",
     "text": [
      "0.06172839506172839\n"
     ]
    },
    {
     "data": {
      "image/png": "[encoded data removed]",
      "text/plain": [
       "<Figure size 432x288 with 1 Axes>"
      ]
     },
     "metadata": {
      "needs_background": "light"
     },
     "output_type": "display_data"
    },
    {
     "name": "stdout",
     "output_type": "stream",
     "text": [
      "0.125\n"
     ]
    },
    {
     "data": {
      "image/png": "[encoded data removed]",
      "text/plain": [
       "<Figure size 432x288 with 1 Axes>"
      ]
     },
     "metadata": {
      "needs_background": "light"
     },
     "output_type": "display_data"
    },
    {
     "data": {
      "image/png": "[encoded data removed]",
      "text/plain": [
       "<Figure size 432x288 with 1 Axes>"
      ]
     },
     "metadata": {
      "needs_background": "light"
     },
     "output_type": "display_data"
    }
   ],
   "source": [
    "def get_p_distrib(index_list,dataset):\n",
    "    p_list = []\n",
    "    dataset = np.asarray(dataset)\n",
    "    for i in index_list:\n",
    "        p_list.append(dataset[i])\n",
    "    p_list = np.asarray(p_list)\n",
    "\n",
    "#     plt.title('Text-wise Error distribution')\n",
    "#     plt.xticks(np.arange(0, 10, step=1))\n",
    "#     plt.show()\n",
    "    return p_list\n",
    "    \n",
    "p_list = get_p_distrib(index_table[2],test_ds['p_index'])\n",
    "p_overall = np.asarray(test_ds['p_index'])\n",
    "counter1 = Counter(p_list[:,1])\n",
    "counter2 = Counter(p_overall[:,1])\n",
    "\n",
    "\n",
    "questions_ranges = [(1,5), (6,8), (9,13), (14,16), (17,21), (22,27), (28,30),\n",
    "                   (31,35), (36,40), (41,43), (44,48)]\n",
    "\n",
    "reading_num = []\n",
    "reading_error_rate = []\n",
    "for i in range(len(questions_ranges)):\n",
    "    x = []\n",
    "    y = []\n",
    "    err_total = 0\n",
    "    p_total = 0\n",
    "    for j in range(questions_ranges[i][0],questions_ranges[i][1]+1):\n",
    "        x.append(j)\n",
    "        y.append(counter1[j]/counter2[j])\n",
    "        err_total += counter1[j]\n",
    "        p_total += counter2[j]\n",
    "    \n",
    "    print(err_total/p_total)\n",
    "    reading_num.append(i+1)\n",
    "    reading_error_rate.append(err_total/p_total)\n",
    "    plt.bar(x,y)\n",
    "    plt.title(f'Reading {i+1}: percentage of error for each question')\n",
    "    plt.xlabel(\"Question Number\")\n",
    "    plt.ylabel(\"Error percentage\")\n",
    "    plt.xticks(x)\n",
    "    plt.show()\n",
    "    \n",
    "plt.bar(reading_num,reading_error_rate)\n",
    "plt.title('Percentage of Prediction Error in each reading')\n",
    "plt.xlabel(\"Question Number\")\n",
    "plt.ylabel(\"Error percentage\")\n",
    "plt.xticks(reading_num)\n",
    "plt.show()\n",
    "    \n",
    "# p_hist,bins = np.histogram(p_list[:,0],bins = 10)\n",
    "# print(p_hist, bins)\n",
    "\n",
    "# width = 0.7 * (bins[1] - bins[0])\n",
    "# center = (bins[:-1] + bins[1:]) / 2\n",
    "# # print(p_hist/np.histogram(test_ds['p_index'])[0])\n",
    "# plt.bar(center, p_hist/np.histogram(test_ds['p_index'],bins = 10)[0], align='center', width=width)\n",
    "# plt.title(\"Percentage of Prediction Error in each reading\")\n",
    "# plt.ylabel('Percentage')\n",
    "# plt.xlabel('Reading Number')\n",
    "# # _ = plt.hist(test_ds['p_index'])\n",
    "\n",
    "# # plt.title('Text-wise Error distribution')\n",
    "# plt.xticks(np.arange(0, 10, step=1))\n",
    "# plt.show()"
   ]
  }
 ],
 "metadata": {
  "kernelspec": {
   "display_name": "Python 3",
   "language": "python",
   "name": "python3"
  },
  "language_info": {
   "codemirror_mode": {
    "name": "ipython",
    "version": 3
   },
   "file_extension": ".py",
   "mimetype": "text/x-python",
   "name": "python",
   "nbconvert_exporter": "python",
   "pygments_lexer": "ipython3",
   "version": "3.8.5"
  }
 },
 "nbformat": 4,
 "nbformat_minor": 4
}
