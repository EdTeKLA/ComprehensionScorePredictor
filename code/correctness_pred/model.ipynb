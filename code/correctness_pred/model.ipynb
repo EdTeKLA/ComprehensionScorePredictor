{
 "cells": [
  {
   "cell_type": "code",
   "execution_count": 1,
   "metadata": {},
   "outputs": [],
   "source": [
    "import pickle\n",
    "import torch.nn as nn\n",
    "import torch.optim as optim\n",
    "import torch\n",
    "import numpy as np\n",
    "import random\n",
    "\n",
    "from sklearn.model_selection import train_test_split, StratifiedKFold\n",
    "from sklearn.metrics import precision_score, recall_score\n",
    "\n",
    "from prettytable import PrettyTable\n"
   ]
  },
  {
   "cell_type": "code",
   "execution_count": 4,
   "metadata": {
    "scrolled": true
   },
   "outputs": [
    {
     "name": "stdout",
     "output_type": "stream",
     "text": [
      "[33.         26.          5.         11.         59.          1.12102772\n",
      "  7.66666667  1.3662601  10.          0.55172414  7.          4.        ]\n",
      "12\n"
     ]
    }
   ],
   "source": [
    "with open(\"data.pkl\",'rb') as fp:\n",
    "    data = pickle.load(fp)\n",
    "\n",
    "\n",
    "# print(len(data))\n",
    "# print(train_data[0][0])\n",
    "# print(test_data[0][0])\n",
    "print(data[0][0])\n",
    "\n",
    "print(len(data[1][0]))"
   ]
  },
  {
   "cell_type": "code",
   "execution_count": 5,
   "metadata": {},
   "outputs": [
    {
     "name": "stdout",
     "output_type": "stream",
     "text": [
      "12\n"
     ]
    }
   ],
   "source": [
    "feature_names = ['G3.PPVT.Vocab.raw',\n",
    "                 'G3.Elision.PA.raw',\n",
    "                 'G3.Syn.GramCorrect.raw',\n",
    "                 'G3.DigitSpan.raw',\n",
    "                 'G3.WordID.raw',\n",
    "                 'G3.TOWRE.raw',\n",
    "                 'Subtest Depth mean',\n",
    "                 'Subtest Depth stdev',\n",
    "                 'Subtest Depth max',\n",
    "                 'Subtest Rare Word Rate',\n",
    "                 'Question Depth mean',\n",
    "                 'Answer Depth mean'\n",
    "                ]\n",
    "print(len(feature_names))"
   ]
  },
  {
   "cell_type": "code",
   "execution_count": 6,
   "metadata": {
    "scrolled": true
   },
   "outputs": [
    {
     "name": "stdout",
     "output_type": "stream",
     "text": [
      "0\n",
      "[]\n",
      "0\n",
      "[]\n",
      "0\n",
      "[]\n",
      "0\n",
      "[]\n",
      "0\n",
      "[]\n"
     ]
    }
   ],
   "source": [
    "def get_entries(data, index):\n",
    "    new_data = []\n",
    "    print(len(index))\n",
    "#     print(index[500])\n",
    "    for i in index:\n",
    "        new_data.append(data[i])\n",
    "    return new_data\n",
    "\n",
    "labels = []\n",
    "for entry in data:\n",
    "    labels.append(entry[-1])\n",
    "\n",
    "skf = StratifiedKFold(n_splits=5, random_state=1, shuffle=True)\n",
    "\n",
    "for train_index, test_index in skf.split(data,labels):\n",
    "    print(get_entries(data,[]))\n",
    "    "
   ]
  },
  {
   "cell_type": "code",
   "execution_count": 7,
   "metadata": {},
   "outputs": [],
   "source": [
    "def create_tensors(data_list):\n",
    "    # create tensor that is compatible to load and train in the language model\n",
    "    ds = {}\n",
    "    keys = ['skills','subtests','questions','answers','y']\n",
    "    for key in keys:\n",
    "        ds[key] = []\n",
    "    \n",
    "    for entry in data_list:\n",
    "        ds['skills'].append(entry[0])\n",
    "        ds['subtests'].append(entry[1])\n",
    "        ds['questions'].append(entry[2])\n",
    "        ds['answers'].append(entry[3])\n",
    "        ds['y'].append(entry[4])\n",
    "    \n",
    "    ds['skills'] = torch.tensor(ds['skills']).type(torch.float)\n",
    "    ds['subtests'] = torch.tensor(ds['subtests'])\n",
    "    ds['questions'] = torch.tensor(ds['questions'])\n",
    "    ds['answers'] = torch.tensor(ds['answers'])\n",
    "    ds['y'] = torch.tensor(ds['y']).type(torch.float)\n",
    "\n",
    "    return ds"
   ]
  },
  {
   "cell_type": "code",
   "execution_count": 10,
   "metadata": {},
   "outputs": [],
   "source": [
    "class BertModel(nn.Module):\n",
    "    def __init__(self, sentence_dim, skill_dim, dropout):\n",
    "        super().__init__()\n",
    "        self.skill_dim = skill_dim\n",
    "        self.fc_test = nn.Linear(768,sentence_dim)\n",
    "        self.fc_question = nn.Linear(768,sentence_dim)\n",
    "        self.fc_answer = nn.Linear(768,sentence_dim)\n",
    "        self.fc_skill = nn.Linear(skill_dim,skill_dim*2)\n",
    "        self.relu = nn.ReLU()\n",
    "        self.dropout = nn.Dropout(dropout)\n",
    "        self.fc2 = nn.Linear(3*sentence_dim+skill_dim*2,128)\n",
    "#         self.fc2 = nn.Linear(sentence_dim+skill_dim*2,128)\n",
    "        self.out = nn.Linear(128,1)\n",
    "    \n",
    "    def forward(self, skills,test,question,answer):\n",
    "        x1 = self.fc_skill(skills[:,:self.skill_dim])\n",
    "        x2 = self.fc_test(test)\n",
    "        x3 = self.fc_question(question)\n",
    "        x4 = self.fc_answer(answer)\n",
    "        x = torch.cat((x1,x2,x3,x4),dim=1)\n",
    "#         x = torch.cat((x1,x2),dim=1)\n",
    "        x = self.fc2(self.relu(x))\n",
    "        pred = self.out(self.relu(x))\n",
    "        \n",
    "        return pred"
   ]
  },
  {
   "cell_type": "code",
   "execution_count": 11,
   "metadata": {},
   "outputs": [],
   "source": [
    "def binary_accuracy(preds, y):\n",
    "    \"\"\"\n",
    "    Returns accuracy per batch, i.e. if you get 8/10 right, this returns 0.8, NOT 8\n",
    "    \"\"\"\n",
    "\n",
    "    #round predictions to the closest integer\n",
    "    rounded_preds = torch.round(torch.sigmoid(preds))\n",
    "    correct = (rounded_preds == y).float() #convert into float for division \n",
    "    acc = correct.sum() / len(correct)\n",
    "    return acc"
   ]
  },
  {
   "cell_type": "code",
   "execution_count": 12,
   "metadata": {},
   "outputs": [],
   "source": [
    "def confusion_matrix(preds, Y):\n",
    "    rounded_preds = torch.round(preds.sigmoid())\n",
    "    TP = 0\n",
    "    TN = 0\n",
    "    FP = 0\n",
    "    FN = 0\n",
    "    for i, value in enumerate(rounded_preds):\n",
    "        if value == Y[i] and value == 1:\n",
    "            TP += 1\n",
    "        elif value == Y[i] and value == 0:\n",
    "            TN += 1\n",
    "        elif value != Y[i] and value == 0:\n",
    "            FN += 1\n",
    "        elif value != Y[i] and value == 1:\n",
    "            FP += 1\n",
    "        else:\n",
    "            print(value,Y[i])\n",
    "    print(f'TP: {TP}\\tFN: {FN}')\n",
    "    print(f'FP: {FP}\\tTN: {TN}')"
   ]
  },
  {
   "cell_type": "code",
   "execution_count": 13,
   "metadata": {},
   "outputs": [],
   "source": [
    "\n",
    "def precision(preds,y):\n",
    "    rounded_preds = torch.round(preds.sigmoid())\n",
    "#     print((rounded_preds==1).sum())\n",
    "#     print((y==1).sum())\n",
    "    return precision_score(y,rounded_preds)\n",
    "\n",
    "def recall(preds,y):\n",
    "    rounded_preds = torch.round(preds.sigmoid())\n",
    "    return recall_score(y,rounded_preds)\n",
    "    "
   ]
  },
  {
   "cell_type": "code",
   "execution_count": 14,
   "metadata": {},
   "outputs": [],
   "source": [
    "def train(model, data, optimizer, criterion):\n",
    "    \n",
    "    epoch_loss = 0\n",
    "    epoch_acc = 0\n",
    "    \n",
    "    model.train()\n",
    "        \n",
    "    optimizer.zero_grad()\n",
    "    \n",
    "    predictions = model(data['skills'],data['subtests'],data['questions'],data['answers']).squeeze(1)\n",
    "\n",
    "    loss = criterion(predictions, data['y'])\n",
    "    \n",
    "\n",
    "    acc = binary_accuracy(predictions, data['y'])\n",
    "    \n",
    "\n",
    "    loss.backward()\n",
    "\n",
    "    optimizer.step()\n",
    "\n",
    "#     epoch_loss += loss.item()\n",
    "#     epoch_acc += acc.item()\n",
    "#     print(loss)\n",
    "#     print(acc)\n",
    "    return loss,acc \n"
   ]
  },
  {
   "cell_type": "code",
   "execution_count": 15,
   "metadata": {},
   "outputs": [],
   "source": [
    "def evaluate(model, data, criterion, matrix=False):\n",
    "    \n",
    "    model.eval()\n",
    "    \n",
    "    with torch.no_grad():\n",
    "        \n",
    "        predictions = model(data['skills'],data['subtests'],data['questions'],data['answers']).squeeze(1)\n",
    "        \n",
    "#         print('eval pred',predictions)\n",
    "\n",
    "        loss = criterion(predictions, data['y'])\n",
    "#         print('eval1',data[4])\n",
    "#         print('eval',(data[4]==0).sum())\n",
    "        acc = binary_accuracy(predictions, data['y'])\n",
    "        \n",
    "        prec = precision(predictions, data['y'])\n",
    "        \n",
    "        rec = recall(predictions, data['y'])\n",
    "        \n",
    "        if matrix:\n",
    "            confusion_matrix(predictions, data['y'])\n",
    "        \n",
    "#         print(f\"Number of positives: {(data[4]==1).sum()}\")\n",
    "#         print(f\"Number of negatives: {(data[4]==0).sum()}\")\n",
    "\n",
    "        \n",
    "    return loss, acc, prec, rec"
   ]
  },
  {
   "cell_type": "code",
   "execution_count": 17,
   "metadata": {
    "scrolled": false
   },
   "outputs": [
    {
     "name": "stdout",
     "output_type": "stream",
     "text": [
      "Run 0\n",
      "[0.704150915145874, 0.7116402116402116, 0.7556179775280899, 0, 175]\n",
      "Run 1\n",
      "[0.7049056887626648, 0.7137150466045273, 0.7528089887640449, 0, 100]\n",
      "Run 2\n",
      "[0.702641487121582, 0.7374149659863946, 0.7294751009421265, 0, 75]\n",
      "Run 3\n",
      "[0.7064151167869568, 0.7310344827586207, 0.7320441988950276, 0, 150]\n",
      "Run 4\n",
      "[0.698867917060852, 0.6993548387096774, 0.7655367231638418, 0, 150]\n",
      "[[0.704150915145874, 0.7116402116402116, 0.7556179775280899, 0, 175], [0.7049056887626648, 0.7137150466045273, 0.7528089887640449, 0, 100], [0.702641487121582, 0.7374149659863946, 0.7294751009421265, 0, 75], [0.7064151167869568, 0.7310344827586207, 0.7320441988950276, 0, 150], [0.698867917060852, 0.6993548387096774, 0.7655367231638418, 0, 150]]\n"
     ]
    }
   ],
   "source": [
    "max_epochs = 300\n",
    "ep_log_interval = 25\n",
    "lrn_rate = 0.001\n",
    "sentence_dim = 64\n",
    "skill_dim = 12\n",
    "dropout = 0.1\n",
    "verbose = False\n",
    "\n",
    "model_results = []\n",
    "\n",
    "for i in range(5):\n",
    "    print(f\"Run {i}\")\n",
    "    # Get training and testing data\n",
    "    train_data, test_data = train_test_split(data, test_size=0.2, random_state = i)\n",
    "    \n",
    "    # fix layer initialization\n",
    "    torch.manual_seed(10)\n",
    "    net = BertModel(sentence_dim, skill_dim, dropout)\n",
    "    criterion = nn.BCEWithLogitsLoss() #BCEWithLogitsLoss()\n",
    "    optimizer = optim.Adam(net.parameters(), lr=lrn_rate)\n",
    "    train_ds = create_tensors(train_data)\n",
    "    test_ds = create_tensors(test_data)\n",
    "\n",
    "    max_stats = [0,0,0,0,0] # each position represents acc, prec, recall, f1, epoch number respectively\n",
    "    for epoch in range(max_epochs):\n",
    "        train_loss, train_acc = train(net,train_ds,optimizer,criterion)\n",
    "\n",
    "        if epoch % ep_log_interval == 0:\n",
    "            \n",
    "            valid_loss, valid_acc, prec, rec = evaluate(net,test_ds,criterion,matrix=False)\n",
    "            if verbose:\n",
    "                print(f'Epoch: {epoch}')\n",
    "                print(f'\\tTrain Loss: {train_loss:.3f} | Train Acc: {train_acc*100:.2f}%')\n",
    "                print(f'\\t Val. Loss: {valid_loss:.3f} |  Val. Acc: {valid_acc*100:.2f}%')\n",
    "                print('precision: ', prec)\n",
    "                print('recall: ', rec)\n",
    "                try:\n",
    "                    f1 = 2*(prec*rec)/(prec+rec)\n",
    "                    print(f\"f1 = {f1}\")\n",
    "                except:\n",
    "                    continue\n",
    "            if valid_acc > max_stats[0]:\n",
    "                max_stats[0] = float(valid_acc)\n",
    "                max_stats[1] = prec\n",
    "                max_stats[2] = rec\n",
    "                max_stats[4] = epoch\n",
    "                torch.save(net.state_dict(), 'fullmodel1.pt')\n",
    "                # sentence_embedding_model\n",
    "                \n",
    "    print(max_stats)        \n",
    "    model_results.append(max_stats)\n",
    "\n",
    "print(model_results)"
   ]
  },
  {
   "cell_type": "code",
   "execution_count": 20,
   "metadata": {},
   "outputs": [
    {
     "name": "stdout",
     "output_type": "stream",
     "text": [
      "BertModel(\n",
      "  (fc_test): Linear(in_features=768, out_features=64, bias=True)\n",
      "  (fc_question): Linear(in_features=768, out_features=64, bias=True)\n",
      "  (fc_answer): Linear(in_features=768, out_features=64, bias=True)\n",
      "  (fc_skill): Linear(in_features=12, out_features=24, bias=True)\n",
      "  (relu): ReLU()\n",
      "  (dropout): Dropout(p=0.1, inplace=False)\n",
      "  (fc2): Linear(in_features=216, out_features=128, bias=True)\n",
      "  (out): Linear(in_features=128, out_features=1, bias=True)\n",
      ")\n",
      "torch.Size([1325, 768])\n"
     ]
    },
    {
     "data": {
      "text/plain": [
       "(tensor(0.5831), tensor(0.6989), 0.6993548387096774, 0.7655367231638418)"
      ]
     },
     "execution_count": 20,
     "metadata": {},
     "output_type": "execute_result"
    }
   ],
   "source": [
    "model_1 = BertModel(64, 12, 0.1)\n",
    "model_1.load_state_dict(torch.load('fullmodel1.pt'))\n",
    "print(model_1)\n",
    "print(test_ds['answers'].shape)\n",
    "criterion = nn.BCEWithLogitsLoss()\n",
    "evaluate(model_1,test_ds,criterion,matrix=False)"
   ]
  },
  {
   "cell_type": "code",
   "execution_count": 21,
   "metadata": {},
   "outputs": [
    {
     "name": "stdout",
     "output_type": "stream",
     "text": [
      "[[-1.79261617  2.53472229  0.29609573 ... -0.06367637 -1.26656509\n",
      "   0.02371166]\n",
      " [ 1.67725792 -0.59827542  0.63187901 ... -0.10939019 -2.05772529\n",
      "  -0.38474067]\n",
      " [-1.1994708   1.63301494  0.78497625 ... -0.05318591 -0.3557752\n",
      "  -0.38341355]\n",
      " ...\n",
      " [-0.66092273  1.05578358  1.51434606 ... -0.06668292 -0.44219148\n",
      "  -0.0058247 ]\n",
      " [ 3.21524868 -4.00556474  1.14844998 ... -0.1306767   0.62437726\n",
      "  -1.77450868]\n",
      " [-1.45838024 -1.05639791  0.58770919 ... -0.09788842 -0.07408867\n",
      "  -0.35473895]]\n"
     ]
    }
   ],
   "source": [
    "from captum.attr import IntegratedGradients\n",
    "ig = IntegratedGradients(net)\n",
    "test_ds['skills'].requires_grad_()\n",
    "test_ds['subtests'].requires_grad_()\n",
    "test_ds['questions'].requires_grad_()\n",
    "test_ds['answers'].requires_grad_()\n",
    "\n",
    "\n",
    "attr,delta = ig.attribute((test_ds['skills'],test_ds['subtests'],test_ds['questions'],test_ds['answers'])\\\n",
    "                          ,return_convergence_delta=True)\n",
    "attr = attr[0].detach().numpy()\n",
    "print(attr)"
   ]
  },
  {
   "cell_type": "code",
   "execution_count": 144,
   "metadata": {},
   "outputs": [
    {
     "name": "stdout",
     "output_type": "stream",
     "text": [
      "[[ 1.38835296 -1.62714068  0.55469045 ... -0.0255954  -0.35566213\n",
      "  -0.82006692]\n",
      " [ 0.09343223 -1.35041984  1.2346954  ... -0.00675455 -0.12814117\n",
      "  -0.42120651]\n",
      " [ 0.04928425 -1.25591846  1.27386323 ... -0.00311679 -0.13865868\n",
      "  -0.28198756]\n",
      " ...\n",
      " [ 0.2041506  -0.7193754   1.60782337 ... -0.00503097 -0.17475127\n",
      "  -0.32142604]\n",
      " [-0.03067343 -1.29522493  1.28665465 ... -0.01547032 -0.10579353\n",
      "  -0.55818612]\n",
      " [ 0.49236189 -0.67942748  1.40420129 ... -0.00263785 -0.12422568\n",
      "  -0.25687151]]\n"
     ]
    }
   ],
   "source": [
    "attr = attr[0].detach().numpy()\n",
    "print(attr)"
   ]
  },
  {
   "cell_type": "code",
   "execution_count": 22,
   "metadata": {},
   "outputs": [
    {
     "name": "stdout",
     "output_type": "stream",
     "text": [
      "Average Feature Importances\n",
      "G3.PPVT.Vocab.raw :  0.258\n",
      "G3.Elision.PA.raw :  -0.589\n",
      "G3.Syn.GramCorrect.raw :  1.197\n",
      "G3.DigitSpan.raw :  0.131\n",
      "G3.WordID.raw :  4.427\n",
      "G3.TOWRE.raw :  0.242\n",
      "Subtest Depth mean :  -0.642\n",
      "Subtest Depth stdev :  -0.189\n",
      "Subtest Depth max :  -0.462\n",
      "Subtest Rare Word Rate :  -0.092\n",
      "Question Depth mean :  -0.466\n",
      "Answer Depth mean :  -0.313\n"
     ]
    },
    {
     "data": {
      "image/png": "[encoded data removed]",
      "text/plain": [
       "<Figure size 864x432 with 1 Axes>"
      ]
     },
     "metadata": {
      "needs_background": "light"
     },
     "output_type": "display_data"
    }
   ],
   "source": [
    "\n",
    "# attr = attr[0].detach().numpy()\n",
    "from matplotlib import pyplot as plt\n",
    "\n",
    "def visualize_importances(feature_names, importances, title=\"Average Feature Importances\", plot=True, axis_title=\"Features\"):\n",
    "    print(title)\n",
    "    for i in range(len(feature_names)):\n",
    "        print(feature_names[i], \": \", '%.3f'%(importances[i]))\n",
    "    x_pos = (np.arange(len(feature_names)))\n",
    "    if plot:\n",
    "        plt.figure(figsize=(12,6))\n",
    "        plt.bar(x_pos, importances, align='center')\n",
    "        plt.xticks(x_pos, feature_names, rotation='vertical')\n",
    "        plt.xlabel(axis_title)\n",
    "        plt.title(title)\n",
    "visualize_importances(feature_names, np.mean(attr, axis=0))"
   ]
  },
  {
   "cell_type": "markdown",
   "metadata": {},
   "source": [
    "### Simple NN model without text embeddings"
   ]
  },
  {
   "cell_type": "code",
   "execution_count": 18,
   "metadata": {},
   "outputs": [],
   "source": [
    "class SimpleNet(nn.Module):\n",
    "    def __init__(self, skill_dim):\n",
    "        super().__init__()\n",
    "        self.fc_skill = nn.Linear(skill_dim,skill_dim*2)\n",
    "        self.relu = nn.ReLU()\n",
    "        self.fc2 = nn.Linear(skill_dim*2,128)\n",
    "        self.out = nn.Linear(128,1)\n",
    "        self.skill_dim = skill_dim\n",
    "        \n",
    "    def forward(self, skills):\n",
    "        x1 = self.fc_skill(skills[:,:self.skill_dim])\n",
    "        x = self.fc2(self.relu(x1))\n",
    "        pred = self.out(self.relu(x))\n",
    "        return pred"
   ]
  },
  {
   "cell_type": "code",
   "execution_count": 23,
   "metadata": {},
   "outputs": [],
   "source": [
    "def train_simple(model, data, optimizer, criterion):\n",
    "    \n",
    "    epoch_loss = 0\n",
    "    epoch_acc = 0\n",
    "    \n",
    "    model.train()\n",
    "        \n",
    "    optimizer.zero_grad()\n",
    "    \n",
    "    predictions = model(data['skills']).squeeze(1)\n",
    "\n",
    "    loss = criterion(predictions, data['y'])\n",
    "    \n",
    "\n",
    "    acc = binary_accuracy(predictions, data['y'])\n",
    "    \n",
    "\n",
    "    loss.backward()\n",
    "\n",
    "    optimizer.step()\n",
    "\n",
    "#     epoch_loss += loss.item()\n",
    "#     epoch_acc += acc.item()\n",
    "#     print(loss)\n",
    "#     print(acc)\n",
    "    return loss,acc "
   ]
  },
  {
   "cell_type": "code",
   "execution_count": 24,
   "metadata": {},
   "outputs": [],
   "source": [
    "def evaluate_simple(model, data, criterion, matrix=False):\n",
    "    \n",
    "    model.eval()\n",
    "    \n",
    "    with torch.no_grad():\n",
    "\n",
    "        predictions = model(data['skills']).squeeze(1)\n",
    "        \n",
    "#         print('eval pred',predictions)\n",
    "\n",
    "        loss = criterion(predictions, data['y'])\n",
    "#         print('eval1',data[4])\n",
    "#         print('eval',(data[4]==0).sum())\n",
    "        acc = binary_accuracy(predictions, data['y'])\n",
    "        \n",
    "        prec = precision(predictions, data['y'])\n",
    "        \n",
    "        rec = recall(predictions, data['y'])\n",
    "        \n",
    "        if matrix:\n",
    "            confusion_matrix(predictions, data['y'])\n",
    "        \n",
    "#         print(f\"Number of positives: {(data[4]==1).sum()}\")\n",
    "#         print(f\"Number of negatives: {(data[4]==0).sum()}\")\n",
    "\n",
    "        \n",
    "    return loss, acc, prec, rec"
   ]
  },
  {
   "cell_type": "code",
   "execution_count": 29,
   "metadata": {},
   "outputs": [
    {
     "name": "stdout",
     "output_type": "stream",
     "text": [
      "Run 0\n",
      "[0.6641509532928467, 0.6696315120711563, 0.7401685393258427, 0, 250]\n",
      "Run 1\n",
      "[0.6701886653900146, 0.6699629171817059, 0.7612359550561798, 0, 150]\n",
      "Run 2\n",
      "[0.6830188632011414, 0.7026348808030113, 0.7537012113055181, 0, 125]\n",
      "[[0.6641509532928467, 0.6696315120711563, 0.7401685393258427, 0, 250], [0.6701886653900146, 0.6699629171817059, 0.7612359550561798, 0, 150], [0.6830188632011414, 0.7026348808030113, 0.7537012113055181, 0, 125]]\n"
     ]
    }
   ],
   "source": [
    "max_epochs = 300\n",
    "ep_log_interval = 25\n",
    "lrn_rate = 0.001\n",
    "skill_dim = 12\n",
    "verbose = False\n",
    "\n",
    "model_results = []\n",
    "\n",
    "for i in range(3):\n",
    "    print(f\"Run {i}\")\n",
    "    # Get training and testing data\n",
    "    train_data, test_data = train_test_split(data, test_size=0.2, random_state = i)\n",
    "    \n",
    "    # fix layer initialization\n",
    "    torch.manual_seed(1)\n",
    "    net = SimpleNet(skill_dim)\n",
    "    criterion = nn.BCEWithLogitsLoss() #BCEWithLogitsLoss()\n",
    "    optimizer = optim.Adam(net.parameters(), lr=lrn_rate)\n",
    "    train_ds = create_tensors(train_data)\n",
    "    test_ds = create_tensors(test_data)\n",
    "\n",
    "    max_stats = [0,0,0,0,0] # each position represents acc, prec, recall, f1, epoch number respectively\n",
    "    for epoch in range(max_epochs):\n",
    "        train_loss, train_acc = train_simple(net,train_ds,optimizer,criterion)\n",
    "\n",
    "        if epoch % ep_log_interval == 0:\n",
    "            \n",
    "            valid_loss, valid_acc, prec, rec = evaluate_simple(net,test_ds,criterion,matrix=False)\n",
    "            if verbose:\n",
    "                print(f'Epoch: {epoch}')\n",
    "                print(f'\\tTrain Loss: {train_loss:.3f} | Train Acc: {train_acc*100:.2f}%')\n",
    "                print(f'\\t Val. Loss: {valid_loss:.3f} |  Val. Acc: {valid_acc*100:.2f}%')\n",
    "                print('precision: ', prec)\n",
    "                print('recall: ', rec)\n",
    "                try:\n",
    "                    f1 = 2*(prec*rec)/(prec+rec)\n",
    "                    print(f\"f1 = {f1}\")\n",
    "                except:\n",
    "                    continue\n",
    "            if valid_acc > max_stats[0]:\n",
    "                max_stats[0] = float(valid_acc)\n",
    "                max_stats[1] = prec\n",
    "                max_stats[2] = rec\n",
    "                max_stats[4] = epoch\n",
    "                torch.save(net.state_dict(), 'basemodel_full.pt')\n",
    "                \n",
    "    print(max_stats)        \n",
    "    model_results.append(max_stats)\n",
    "\n",
    "print(model_results)"
   ]
  },
  {
   "cell_type": "code",
   "execution_count": 30,
   "metadata": {},
   "outputs": [
    {
     "data": {
      "text/plain": [
       "(tensor(0.6111), tensor(0.6679), 0.6670822942643392, 0.7556497175141242)"
      ]
     },
     "execution_count": 30,
     "metadata": {},
     "output_type": "execute_result"
    }
   ],
   "source": [
    "train_data, test_data = train_test_split(data, test_size=0.2, random_state = 4)\n",
    "test_ds = create_tensors(test_data)\n",
    "model_2 = SimpleNet(12)\n",
    "model_2.load_state_dict(torch.load('basemodel_full.pt'))\n",
    "evaluate_simple(model_2,test_ds,criterion,matrix=False)\n"
   ]
  },
  {
   "cell_type": "code",
   "execution_count": 55,
   "metadata": {},
   "outputs": [
    {
     "name": "stdout",
     "output_type": "stream",
     "text": [
      "torch.Size([1325, 768])\n"
     ]
    },
    {
     "ename": "RuntimeError",
     "evalue": "mat1 and mat2 shapes cannot be multiplied (1325x7 and 13x26)",
     "output_type": "error",
     "traceback": [
      "\u001b[0;31m--------------------------------------------------\u001b[0m",
      "\u001b[0;31mRuntimeError\u001b[0m     Traceback (most recent call last)",
      "\u001b[0;32m<ipython-input-55-8f7317810380>\u001b[0m in \u001b[0;36m<module>\u001b[0;34m\u001b[0m\n\u001b[1;32m     29\u001b[0m \u001b[0mdata\u001b[0m \u001b[0;34m=\u001b[0m \u001b[0mtest_ds\u001b[0m\u001b[0;34m\u001b[0m\u001b[0;34m\u001b[0m\u001b[0m\n\u001b[1;32m     30\u001b[0m \u001b[0mprint\u001b[0m\u001b[0;34m(\u001b[0m\u001b[0mdata\u001b[0m\u001b[0;34m[\u001b[0m\u001b[0;34m'subtests'\u001b[0m\u001b[0;34m]\u001b[0m\u001b[0;34m.\u001b[0m\u001b[0mshape\u001b[0m\u001b[0;34m)\u001b[0m\u001b[0;34m\u001b[0m\u001b[0;34m\u001b[0m\u001b[0m\n\u001b[0;32m---> 31\u001b[0;31m \u001b[0mpred_1\u001b[0m \u001b[0;34m=\u001b[0m \u001b[0mmodel_1\u001b[0m\u001b[0;34m(\u001b[0m\u001b[0mdata\u001b[0m\u001b[0;34m[\u001b[0m\u001b[0;34m'skills'\u001b[0m\u001b[0;34m]\u001b[0m\u001b[0;34m,\u001b[0m\u001b[0mdata\u001b[0m\u001b[0;34m[\u001b[0m\u001b[0;34m'subtests'\u001b[0m\u001b[0;34m]\u001b[0m\u001b[0;34m,\u001b[0m\u001b[0mdata\u001b[0m\u001b[0;34m[\u001b[0m\u001b[0;34m'questions'\u001b[0m\u001b[0;34m]\u001b[0m\u001b[0;34m,\u001b[0m\u001b[0mdata\u001b[0m\u001b[0;34m[\u001b[0m\u001b[0;34m'answers'\u001b[0m\u001b[0;34m]\u001b[0m\u001b[0;34m)\u001b[0m\u001b[0;34m.\u001b[0m\u001b[0msqueeze\u001b[0m\u001b[0;34m(\u001b[0m\u001b[0;36m1\u001b[0m\u001b[0;34m)\u001b[0m\u001b[0;34m\u001b[0m\u001b[0;34m\u001b[0m\u001b[0m\n\u001b[0m\u001b[1;32m     32\u001b[0m \u001b[0mpred_2\u001b[0m \u001b[0;34m=\u001b[0m \u001b[0mmodel_2\u001b[0m\u001b[0;34m(\u001b[0m\u001b[0mdata\u001b[0m\u001b[0;34m[\u001b[0m\u001b[0;34m'skills'\u001b[0m\u001b[0;34m]\u001b[0m\u001b[0;34m)\u001b[0m\u001b[0;34m.\u001b[0m\u001b[0msqueeze\u001b[0m\u001b[0;34m(\u001b[0m\u001b[0;36m1\u001b[0m\u001b[0;34m)\u001b[0m\u001b[0;34m\u001b[0m\u001b[0;34m\u001b[0m\u001b[0m\n\u001b[1;32m     33\u001b[0m \u001b[0;34m\u001b[0m\u001b[0m\n",
      "\u001b[0;32m~/opt/anaconda3/lib/python3.8/site-packages/torch/nn/modules/module.py\u001b[0m in \u001b[0;36m_call_impl\u001b[0;34m(self, *input, **kwargs)\u001b[0m\n\u001b[1;32m    887\u001b[0m             \u001b[0mresult\u001b[0m \u001b[0;34m=\u001b[0m \u001b[0mself\u001b[0m\u001b[0;34m.\u001b[0m\u001b[0m_slow_forward\u001b[0m\u001b[0;34m(\u001b[0m\u001b[0;34m*\u001b[0m\u001b[0minput\u001b[0m\u001b[0;34m,\u001b[0m \u001b[0;34m**\u001b[0m\u001b[0mkwargs\u001b[0m\u001b[0;34m)\u001b[0m\u001b[0;34m\u001b[0m\u001b[0;34m\u001b[0m\u001b[0m\n\u001b[1;32m    888\u001b[0m         \u001b[0;32melse\u001b[0m\u001b[0;34m:\u001b[0m\u001b[0;34m\u001b[0m\u001b[0;34m\u001b[0m\u001b[0m\n\u001b[0;32m--> 889\u001b[0;31m             \u001b[0mresult\u001b[0m \u001b[0;34m=\u001b[0m \u001b[0mself\u001b[0m\u001b[0;34m.\u001b[0m\u001b[0mforward\u001b[0m\u001b[0;34m(\u001b[0m\u001b[0;34m*\u001b[0m\u001b[0minput\u001b[0m\u001b[0;34m,\u001b[0m \u001b[0;34m**\u001b[0m\u001b[0mkwargs\u001b[0m\u001b[0;34m)\u001b[0m\u001b[0;34m\u001b[0m\u001b[0;34m\u001b[0m\u001b[0m\n\u001b[0m\u001b[1;32m    890\u001b[0m         for hook in itertools.chain(\n\u001b[1;32m    891\u001b[0m                 \u001b[0m_global_forward_hooks\u001b[0m\u001b[0;34m.\u001b[0m\u001b[0mvalues\u001b[0m\u001b[0;34m(\u001b[0m\u001b[0;34m)\u001b[0m\u001b[0;34m,\u001b[0m\u001b[0;34m\u001b[0m\u001b[0;34m\u001b[0m\u001b[0m\n",
      "\u001b[0;32m<ipython-input-9-74461b2d8e95>\u001b[0m in \u001b[0;36mforward\u001b[0;34m(self, skills, test, question, answer)\u001b[0m\n\u001b[1;32m     14\u001b[0m \u001b[0;34m\u001b[0m\u001b[0m\n\u001b[1;32m     15\u001b[0m     \u001b[0;32mdef\u001b[0m \u001b[0mforward\u001b[0m\u001b[0;34m(\u001b[0m\u001b[0mself\u001b[0m\u001b[0;34m,\u001b[0m \u001b[0mskills\u001b[0m\u001b[0;34m,\u001b[0m\u001b[0mtest\u001b[0m\u001b[0;34m,\u001b[0m\u001b[0mquestion\u001b[0m\u001b[0;34m,\u001b[0m\u001b[0manswer\u001b[0m\u001b[0;34m)\u001b[0m\u001b[0;34m:\u001b[0m\u001b[0;34m\u001b[0m\u001b[0;34m\u001b[0m\u001b[0m\n\u001b[0;32m---> 16\u001b[0;31m         \u001b[0mx1\u001b[0m \u001b[0;34m=\u001b[0m \u001b[0mself\u001b[0m\u001b[0;34m.\u001b[0m\u001b[0mfc_skill\u001b[0m\u001b[0;34m(\u001b[0m\u001b[0mskills\u001b[0m\u001b[0;34m[\u001b[0m\u001b[0;34m:\u001b[0m\u001b[0;34m,\u001b[0m\u001b[0;34m:\u001b[0m\u001b[0mskill_dim\u001b[0m\u001b[0;34m]\u001b[0m\u001b[0;34m)\u001b[0m\u001b[0;34m\u001b[0m\u001b[0;34m\u001b[0m\u001b[0m\n\u001b[0m\u001b[1;32m     17\u001b[0m         \u001b[0mx2\u001b[0m \u001b[0;34m=\u001b[0m \u001b[0mself\u001b[0m\u001b[0;34m.\u001b[0m\u001b[0mfc_test\u001b[0m\u001b[0;34m(\u001b[0m\u001b[0mtest\u001b[0m\u001b[0;34m)\u001b[0m\u001b[0;34m\u001b[0m\u001b[0;34m\u001b[0m\u001b[0m\n\u001b[1;32m     18\u001b[0m         \u001b[0mx3\u001b[0m \u001b[0;34m=\u001b[0m \u001b[0mself\u001b[0m\u001b[0;34m.\u001b[0m\u001b[0mfc_question\u001b[0m\u001b[0;34m(\u001b[0m\u001b[0mquestion\u001b[0m\u001b[0;34m)\u001b[0m\u001b[0;34m\u001b[0m\u001b[0;34m\u001b[0m\u001b[0m\n",
      "\u001b[0;32m~/opt/anaconda3/lib/python3.8/site-packages/torch/nn/modules/module.py\u001b[0m in \u001b[0;36m_call_impl\u001b[0;34m(self, *input, **kwargs)\u001b[0m\n\u001b[1;32m    887\u001b[0m             \u001b[0mresult\u001b[0m \u001b[0;34m=\u001b[0m \u001b[0mself\u001b[0m\u001b[0;34m.\u001b[0m\u001b[0m_slow_forward\u001b[0m\u001b[0;34m(\u001b[0m\u001b[0;34m*\u001b[0m\u001b[0minput\u001b[0m\u001b[0;34m,\u001b[0m \u001b[0;34m**\u001b[0m\u001b[0mkwargs\u001b[0m\u001b[0;34m)\u001b[0m\u001b[0;34m\u001b[0m\u001b[0;34m\u001b[0m\u001b[0m\n\u001b[1;32m    888\u001b[0m         \u001b[0;32melse\u001b[0m\u001b[0;34m:\u001b[0m\u001b[0;34m\u001b[0m\u001b[0;34m\u001b[0m\u001b[0m\n\u001b[0;32m--> 889\u001b[0;31m             \u001b[0mresult\u001b[0m \u001b[0;34m=\u001b[0m \u001b[0mself\u001b[0m\u001b[0;34m.\u001b[0m\u001b[0mforward\u001b[0m\u001b[0;34m(\u001b[0m\u001b[0;34m*\u001b[0m\u001b[0minput\u001b[0m\u001b[0;34m,\u001b[0m \u001b[0;34m**\u001b[0m\u001b[0mkwargs\u001b[0m\u001b[0;34m)\u001b[0m\u001b[0;34m\u001b[0m\u001b[0;34m\u001b[0m\u001b[0m\n\u001b[0m\u001b[1;32m    890\u001b[0m         for hook in itertools.chain(\n\u001b[1;32m    891\u001b[0m                 \u001b[0m_global_forward_hooks\u001b[0m\u001b[0;34m.\u001b[0m\u001b[0mvalues\u001b[0m\u001b[0;34m(\u001b[0m\u001b[0;34m)\u001b[0m\u001b[0;34m,\u001b[0m\u001b[0;34m\u001b[0m\u001b[0;34m\u001b[0m\u001b[0m\n",
      "\u001b[0;32m~/opt/anaconda3/lib/python3.8/site-packages/torch/nn/modules/linear.py\u001b[0m in \u001b[0;36mforward\u001b[0;34m(self, input)\u001b[0m\n\u001b[1;32m     92\u001b[0m \u001b[0;34m\u001b[0m\u001b[0m\n\u001b[1;32m     93\u001b[0m     \u001b[0;32mdef\u001b[0m \u001b[0mforward\u001b[0m\u001b[0;34m(\u001b[0m\u001b[0mself\u001b[0m\u001b[0;34m,\u001b[0m \u001b[0minput\u001b[0m\u001b[0;34m:\u001b[0m \u001b[0mTensor\u001b[0m\u001b[0;34m)\u001b[0m \u001b[0;34m->\u001b[0m \u001b[0mTensor\u001b[0m\u001b[0;34m:\u001b[0m\u001b[0;34m\u001b[0m\u001b[0;34m\u001b[0m\u001b[0m\n\u001b[0;32m---> 94\u001b[0;31m         \u001b[0;32mreturn\u001b[0m \u001b[0mF\u001b[0m\u001b[0;34m.\u001b[0m\u001b[0mlinear\u001b[0m\u001b[0;34m(\u001b[0m\u001b[0minput\u001b[0m\u001b[0;34m,\u001b[0m \u001b[0mself\u001b[0m\u001b[0;34m.\u001b[0m\u001b[0mweight\u001b[0m\u001b[0;34m,\u001b[0m \u001b[0mself\u001b[0m\u001b[0;34m.\u001b[0m\u001b[0mbias\u001b[0m\u001b[0;34m)\u001b[0m\u001b[0;34m\u001b[0m\u001b[0;34m\u001b[0m\u001b[0m\n\u001b[0m\u001b[1;32m     95\u001b[0m \u001b[0;34m\u001b[0m\u001b[0m\n\u001b[1;32m     96\u001b[0m     \u001b[0;32mdef\u001b[0m \u001b[0mextra_repr\u001b[0m\u001b[0;34m(\u001b[0m\u001b[0mself\u001b[0m\u001b[0;34m)\u001b[0m \u001b[0;34m->\u001b[0m \u001b[0mstr\u001b[0m\u001b[0;34m:\u001b[0m\u001b[0;34m\u001b[0m\u001b[0;34m\u001b[0m\u001b[0m\n",
      "\u001b[0;32m~/opt/anaconda3/lib/python3.8/site-packages/torch/nn/functional.py\u001b[0m in \u001b[0;36mlinear\u001b[0;34m(input, weight, bias)\u001b[0m\n\u001b[1;32m   1751\u001b[0m     \u001b[0;32mif\u001b[0m \u001b[0mhas_torch_function_variadic\u001b[0m\u001b[0;34m(\u001b[0m\u001b[0minput\u001b[0m\u001b[0;34m,\u001b[0m \u001b[0mweight\u001b[0m\u001b[0;34m)\u001b[0m\u001b[0;34m:\u001b[0m\u001b[0;34m\u001b[0m\u001b[0;34m\u001b[0m\u001b[0m\n\u001b[1;32m   1752\u001b[0m         \u001b[0;32mreturn\u001b[0m \u001b[0mhandle_torch_function\u001b[0m\u001b[0;34m(\u001b[0m\u001b[0mlinear\u001b[0m\u001b[0;34m,\u001b[0m \u001b[0;34m(\u001b[0m\u001b[0minput\u001b[0m\u001b[0;34m,\u001b[0m \u001b[0mweight\u001b[0m\u001b[0;34m)\u001b[0m\u001b[0;34m,\u001b[0m \u001b[0minput\u001b[0m\u001b[0;34m,\u001b[0m \u001b[0mweight\u001b[0m\u001b[0;34m,\u001b[0m \u001b[0mbias\u001b[0m\u001b[0;34m=\u001b[0m\u001b[0mbias\u001b[0m\u001b[0;34m)\u001b[0m\u001b[0;34m\u001b[0m\u001b[0;34m\u001b[0m\u001b[0m\n\u001b[0;32m-> 1753\u001b[0;31m     \u001b[0;32mreturn\u001b[0m \u001b[0mtorch\u001b[0m\u001b[0;34m.\u001b[0m\u001b[0m_C\u001b[0m\u001b[0;34m.\u001b[0m\u001b[0m_nn\u001b[0m\u001b[0;34m.\u001b[0m\u001b[0mlinear\u001b[0m\u001b[0;34m(\u001b[0m\u001b[0minput\u001b[0m\u001b[0;34m,\u001b[0m \u001b[0mweight\u001b[0m\u001b[0;34m,\u001b[0m \u001b[0mbias\u001b[0m\u001b[0;34m)\u001b[0m\u001b[0;34m\u001b[0m\u001b[0;34m\u001b[0m\u001b[0m\n\u001b[0m\u001b[1;32m   1754\u001b[0m \u001b[0;34m\u001b[0m\u001b[0m\n\u001b[1;32m   1755\u001b[0m \u001b[0;34m\u001b[0m\u001b[0m\n",
      "\u001b[0;31mRuntimeError\u001b[0m: mat1 and mat2 shapes cannot be multiplied (1325x7 and 13x26)"
     ]
    }
   ],
   "source": [
    "def McNemar_test(pred_1,pred_2,y):\n",
    "    rounded_preds_1 = torch.round(torch.sigmoid(pred_1))\n",
    "    correct_1 = rounded_preds_1 == y\n",
    "    \n",
    "    rounded_preds_2 = torch.round(torch.sigmoid(pred_2))\n",
    "    correct_2 = rounded_preds_2 == y\n",
    "    \n",
    "    tl = 0\n",
    "    tr = 0\n",
    "    bl = 0\n",
    "    br = 0\n",
    "    for i in range(len(correct_1)):\n",
    "        if correct_1[i] == 1 and correct_2[i] == 1:\n",
    "            tl += 1\n",
    "        elif correct_1[i] == 1 and correct_2[i] == 0:\n",
    "            tr += 1\n",
    "        elif correct_1[i] == 0 and correct_2[i] == 1:\n",
    "            bl += 1\n",
    "        elif correct_1[i] == 0 and correct_2[i] == 0:\n",
    "            br += 1\n",
    "        else:\n",
    "            print('Unexpected value in counting correctness',correct_1[i],correct_2[i])\n",
    "    \n",
    "    t = PrettyTable(['', 'Model 2 Correct', 'Model 2 Wrong'])\n",
    "    t.add_row(['Model 1 Correct', tl, tr])\n",
    "    t.add_row(['Model 1 Wrong', bl, br])\n",
    "    print(t)\n",
    "\n",
    "print(test_ds['subtests'].shape)\n",
    "pred_1 = model_1(test_ds['skills'],test_ds['subtests'],test_ds['questions'],test_ds['answers']).squeeze(1)\n",
    "pred_2 = model_2(test_ds['skills']).squeeze(1)\n",
    "\n",
    "McNemar_test(pred_1,pred_2,test_ds['y'])"
   ]
  }
 ],
 "metadata": {
  "kernelspec": {
   "display_name": "Python 3",
   "language": "python",
   "name": "python3"
  },
  "language_info": {
   "codemirror_mode": {
    "name": "ipython",
    "version": 3
   },
   "file_extension": ".py",
   "mimetype": "text/x-python",
   "name": "python",
   "nbconvert_exporter": "python",
   "pygments_lexer": "ipython3",
   "version": "3.8.5"
  }
 },
 "nbformat": 4,
 "nbformat_minor": 4
}
