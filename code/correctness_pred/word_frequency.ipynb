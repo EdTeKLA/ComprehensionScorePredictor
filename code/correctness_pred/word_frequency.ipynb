{
 "cells": [
  {
   "cell_type": "code",
   "execution_count": 10,
   "metadata": {},
   "outputs": [],
   "source": [
    "#interactive plotting in separate window\n",
    "%matplotlib qt"
   ]
  },
  {
   "cell_type": "code",
   "execution_count": 13,
   "metadata": {},
   "outputs": [],
   "source": [
    "import string\n",
    "import pickle\n",
    "from nltk import word_tokenize\n",
    "from nltk.corpus import stopwords\n",
    "from nltk.stem.porter import PorterStemmer\n",
    "from nltk.stem import WordNetLemmatizer\n",
    "\n",
    "from collections import Counter\n",
    "\n",
    "from matplotlib import pyplot as plt\n",
    "import matplotlib\n",
    "import numpy as np"
   ]
  },
  {
   "cell_type": "code",
   "execution_count": 4,
   "metadata": {
    "scrolled": true
   },
   "outputs": [
    {
     "name": "stdout",
     "output_type": "stream",
     "text": [
      "vocab size: 46159\n",
      "First 50 rare words:\n",
      " ['alan', 'third', 'jay', 'sudden', 'grow', 'tommy', 'fond', 'middle', 'wing', 'coat', 'listened', 'showed', 'pain', 'bell', 'silence', 'minister', 'softly', 'delight', 'awful', 'heavy', 'follow', 'tonight', 'comfort', 'hot', 'beginning', 'length', 'usual', 'possible', 'changed', 'quick', 'march', 'blow', 'jane', 'pair', 'apple', 'surprised', 'basket', 'finished', 'valley', 'song', 'leaving', 'dr', 'danny', 'wise', 'plain', 'sick', 'mowgli', 'learn', 'wide', 'heaven']\n",
      "Last 50 common words\n",
      " ['lsb', 'smiled', 'rsb', 'listen', 'sharp', 'bank', 'pay', 'hunter', 'kill', 'floor', 'sara', 'quickly', 'save', 'plan', 'later', 'clothes', 'anyone', 'hung', 'thus', 'cheek', 'bowser', 'danger', 'street', 'maiden', 'talked', 'killed', 'beyond', 'besides', 'west', 'party', 'seven', 'beast', 'although', 'different', 'foolish', 'struck', 'tale', 'skunk', 'learned', 'easy', 'box', 'waited', 'thousand', 'drink', 'breeze', 'brook', 'mountain', 'nan', 'wished', 'village']\n",
      "Number of words in common words list:\n",
      " 700\n",
      "Number of words in rare words list:\n",
      " 45459\n"
     ]
    }
   ],
   "source": [
    "\n",
    "\n",
    "def preprocess(corpus):\n",
    "    corpus = corpus.lower()\n",
    "\n",
    "    corpus = corpus.replace('_',' ')\n",
    "    corpus = \"\".join([char for char in corpus if char not in string.punctuation])\n",
    "\n",
    "    words = word_tokenize(corpus)\n",
    "\n",
    "    # print(words[:20])\n",
    "\n",
    "    stop_words = stopwords.words('english')\n",
    "    # print(stop_words)\n",
    "    filtered_words = [word for word in words if word not in stop_words]\n",
    "\n",
    "    # print(filtered_words[:20])\n",
    "\n",
    "    \n",
    "    lemmatizer = WordNetLemmatizer()\n",
    "    lemmatized = [lemmatizer.lemmatize(word) for word in filtered_words]\n",
    "\n",
    "    # porter = PorterStemmer()\n",
    "    # stemmed = [porter.stem(word) for word in lemmatized]\n",
    "\n",
    "    return lemmatized\n",
    "\n",
    "if __name__ == '__main__':\n",
    "    with open(\"../../data/cbt_whole.txt\",'r') as file:\n",
    "        corpus = file.read().replace('\\n', ' ')\n",
    "    words = preprocess(corpus)\n",
    "    freq = Counter(words)\n",
    "\n",
    "    print('vocab size:', len(freq))\n",
    "    # for key in list(freq.keys())[0:10]:\n",
    "    #     print(key, freq[key])\n",
    "\n",
    "    ranking = sorted(freq.items(),key=lambda item:item[1],reverse=True)\n",
    "\n",
    "    threshold = ranking[700][1]\n",
    "    rare_words = []\n",
    "    wordlist = []\n",
    "    data_pts = []\n",
    "\n",
    "    for i in range(0,len(ranking)):\n",
    "        value = ranking[i][1]\n",
    "        data_pts.append(value)\n",
    "\n",
    "    for i in range(len(ranking)):\n",
    "        if ranking[i][1] <= threshold:\n",
    "            rare_words.append(ranking[i][0])\n",
    "        else:\n",
    "            wordlist.append(ranking[i][0])\n",
    "\n",
    "    print(\"First 50 rare words:\\n\", rare_words[:50])\n",
    "    print(\"Last 50 common words\\n\", wordlist[-50:])\n",
    "    print(\"Number of words in common words list:\\n\", len(wordlist))\n",
    "    print(\"Number of words in rare words list:\\n\", len(rare_words))\n",
    "\n",
    "    with open(\"wordlist.pkl\",'wb') as fp:\n",
    "        pickle.dump(wordlist, fp)"
   ]
  },
  {
   "cell_type": "code",
   "execution_count": 31,
   "metadata": {},
   "outputs": [
    {
     "name": "stderr",
     "output_type": "stream",
     "text": [
      "<ipython-input-31-9fa1315afaa0>:12: UserWarning: Attempted to set non-positive left xlim on a log-scaled axis.\n",
      "Invalid limit will be ignored.\n",
      "  ax.set_xlim(xmin=0,xmax=45000)\n"
     ]
    }
   ],
   "source": [
    "import matplotlib.ticker as ticker\n",
    "# print(data_pts[0])\n",
    "fig, ax = plt.subplots()\n",
    "plt.plot(data_pts, color = '#757559')\n",
    "plt.xscale('log', base=2)  # This way you don't need to set ticks manually\n",
    "ax.xaxis.set_major_formatter(ticker.ScalarFormatter())\n",
    "# plt.axvspan(0, 700, alpha=0.5, color='red')\n",
    "plt.axvline(x=700, label='x = {}'.format(700), color='#B5B58A', linestyle = '--')\n",
    "plt.ticklabel_format(axis='x', style='plain')\n",
    "\n",
    "ax.set_ylim(ymin=0,ymax=30000)\n",
    "ax.set_xlim(xmin=0,xmax=45000)\n",
    "# ax.plot(range(32000))\n",
    "plt.fill_betweenx(data_pts, 700, 400000, color=\"#F5F5BA\")\n",
    "\n",
    "# text is left-aligned\n",
    "plt.text(12,22500,'Common Word List')\n",
    "plt.text(2300,22500,'Rare Words')\n",
    "\n",
    "plt.xlabel('Word Index')\n",
    "plt.ylabel('Frequency')\n",
    "plt.legend()\n",
    "\n",
    "plt.show()"
   ]
  },
  {
   "cell_type": "code",
   "execution_count": 18,
   "metadata": {},
   "outputs": [],
   "source": [
    "font = {'family' : 'normal',\n",
    "        'weight' : 'normal',\n",
    "        'size'   : 14}\n",
    "\n",
    "matplotlib.rc('font', **font)"
   ]
  }
 ],
 "metadata": {
  "kernelspec": {
   "display_name": "Python 3",
   "language": "python",
   "name": "python3"
  },
  "language_info": {
   "codemirror_mode": {
    "name": "ipython",
    "version": 3
   },
   "file_extension": ".py",
   "mimetype": "text/x-python",
   "name": "python",
   "nbconvert_exporter": "python",
   "pygments_lexer": "ipython3",
   "version": "3.8.5"
  }
 },
 "nbformat": 4,
 "nbformat_minor": 4
}
