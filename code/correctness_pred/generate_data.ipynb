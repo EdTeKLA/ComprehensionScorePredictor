{
 "cells": [
  {
   "cell_type": "code",
   "execution_count": 10,
   "metadata": {},
   "outputs": [],
   "source": [
    "import os\n",
    "import pandas as pd\n",
    "import numpy as np\n",
    "from sentence_transformers import SentenceTransformer, util\n",
    "import pickle\n",
    "import copy\n",
    "\n",
    "import nltk\n",
    "from nltk.parse import CoreNLPParser\n",
    "import statistics\n",
    "\n",
    "from word_freq import preprocess\n",
    "\n",
    "from collections import Counter\n",
    "\n",
    "from sklearn import preprocessing"
   ]
  },
  {
   "cell_type": "code",
   "execution_count": 1,
   "metadata": {},
   "outputs": [],
   "source": [
    "grade = \"3\"\n",
    "target_path = f\"../../data/question_correctness/.csv\"\n",
    "scores_path = \"../../Gates.ReadComp_By-Item_Gr3-5(CM).xlsx\"\n",
    "corpus_path = f\"../../subtest_txt/gr{grade}_paragraphs.txt\"\n",
    "questions_path = f\"../../subtest_txt/gr{grade}_questions.txt\""
   ]
  },
  {
   "cell_type": "markdown",
   "metadata": {},
   "source": [
    "### Subtest Embedding"
   ]
  },
  {
   "cell_type": "code",
   "execution_count": 3,
   "metadata": {
    "scrolled": false
   },
   "outputs": [
    {
     "name": "stdout",
     "output_type": "stream",
     "text": [
      "Index(['Gr3.RC.Gates_01', 'Gr3.RC.Gates_02', 'Gr3.RC.Gates_03',\n",
      "       'Gr3.RC.Gates_04', 'Gr3.RC.Gates_05', 'Gr3.RC.Gates_06',\n",
      "       'Gr3.RC.Gates_07', 'Gr3.RC.Gates_08', 'Gr3.RC.Gates_09',\n",
      "       'Gr3.RC.Gates_10',\n",
      "       ...\n",
      "       'Gr5.RC.Gates_45', 'Gr5.RC.Gates_46', 'Gr5.RC.Gates_47',\n",
      "       'Gr5.RC.Gates_48', 'Gr5.RC.Gates_RawScore', 'Gr5.RC.Gates_GradeEquiv',\n",
      "       'Gr5.RC.Gates_NCE', 'Gr5.RC.Gates_NPR', 'Gr5.RC.Gates_NS',\n",
      "       'Gr5.RC.Gates_ESS'],\n",
      "      dtype='object', length=162)\n"
     ]
    },
    {
     "data": {
      "application/vnd.jupyter.widget-view+json": {
       "model_id": "0f27489a3279407babfce0051fd65a0f",
       "version_major": 2,
       "version_minor": 0
      },
      "text/plain": [
       "HBox(children=(HTML(value='Batches'), FloatProgress(value=0.0, max=1.0), HTML(value='')))"
      ]
     },
     "metadata": {},
     "output_type": "display_data"
    },
    {
     "name": "stdout",
     "output_type": "stream",
     "text": [
      "\n",
      "(12, 768)\n"
     ]
    }
   ],
   "source": [
    "sub_tests = []\n",
    "embedding_to_\n",
    "with open(corpus_path,'r') as fp:\n",
    "    sub_test = fp.readline()\n",
    "    while sub_test:\n",
    "        sub_tests.append(sub_test)\n",
    "        sub_test = fp.readline()\n",
    "\n",
    "\n",
    "df = pd.read_excel(scores_path)\n",
    "sub_test_number = df.columns[1:]\n",
    "\n",
    "print(sub_test_number)\n",
    "\n",
    "questions_ranges = [(1,5), (6,8), (9,13), (14,16), (17,21), (22,27), (28,30),\n",
    "                   (31,35), (36,40), (41,43), (44,48)]\n",
    "\n",
    "model = SentenceTransformer('paraphrase-mpnet-base-v2')\n",
    "\n",
    "#Change the length to 200\n",
    "model.max_seq_length = 500\n",
    "\n",
    "sub_tests_embed = model.encode(sub_tests, show_progress_bar=True)\n",
    "\n",
    "print(sub_tests_embed.shape)"
   ]
  },
  {
   "cell_type": "markdown",
   "metadata": {},
   "source": [
    "### Subtest rare words"
   ]
  },
  {
   "cell_type": "code",
   "execution_count": 53,
   "metadata": {},
   "outputs": [
    {
     "name": "stdout",
     "output_type": "stream",
     "text": [
      "[0.3103448275862069, 0.5128205128205128, 0.43902439024390244, 0.45454545454545453, 0.5483870967741935, 0.5441176470588235, 0.55, 0.5757575757575758, 0.5849056603773585, 0.43137254901960786, 0.4473684210526316, 0.5277777777777778]\n"
     ]
    }
   ],
   "source": [
    "sub_tests_rare = []\n",
    "def get_rare_words_perc(text,wordlist):\n",
    "    tokens = preprocess(text)\n",
    "    counter = 0\n",
    "    for t in tokens:\n",
    "        if t not in wordlist:\n",
    "            counter += 1\n",
    "    return counter/len(tokens)\n",
    "\n",
    "with open(\"wordlist.pkl\",'rb') as fp:\n",
    "    wordlist = pickle.load(fp)\n",
    "\n",
    "for st in sub_tests:\n",
    "    sub_tests_rare.append(get_rare_words_perc(st, wordlist))\n",
    "    \n",
    "print(sub_tests_rare)"
   ]
  },
  {
   "cell_type": "code",
   "execution_count": 6,
   "metadata": {},
   "outputs": [
    {
     "name": "stdout",
     "output_type": "stream",
     "text": [
      "Counter({'academic': 11, 'sublist': 9, 'word': 9, 'list': 9, 'nonconformist': 4, 'formula': 3, 'coordinate': 3, 'hypothesis': 3, 'appendix': 3, 'analyser': 2, 'analysis': 2, 'analyst': 2, 'approach': 2, 'area': 2, 'ass': 2, 'assessment': 2, 'assumption': 2, 'authority': 2, 'benefit': 2, 'beneficiary': 2, 'concept': 2, 'inconsistency': 2, 'constituency': 2, 'constituent': 2, 'constitution': 2, 'context': 2, 'contract': 2, 'contractor': 2, 'creation': 2, 'creator': 2, 'definition': 2, 'derivation': 2, 'derivative': 2, 'distribution': 2, 'distributor': 2, 'economy': 2, 'economist': 2, 'environment': 2, 'environmentalist': 2, 'establishment': 2, 'estimate': 2, 'estimation': 2, 'overestimate': 2, 'underestimate': 2, 'export': 2, 'exporter': 2, 'factor': 2, 'finance': 2, 'financier': 2, 'formulation': 2, 'function': 2, 'identity': 2, 'income': 2, 'indication': 2, 'indicator': 2, 'individual': 2, 'individualist': 2, 'interpretation': 2, 'misinterpretation': 2, 'reinterpretation': 2, 'issue': 2, 'labour': 2, 'labor': 2, 'legislator': 2, 'majority': 2, 'method': 2, 'methodology': 2, 'occurrence': 2, 'percentage': 2, 'period': 2, 'periodical': 2, 'policy': 2, 'principle': 2, 'procedure': 2, 'proceeding': 2, 'process': 2, 'requirement': 2, 'research': 2, 'researcher': 2, 'respondent': 2, 'response': 2, 'role': 2, 'section': 2, 'sector': 2, 'similarity': 2, 'source': 2, 'specific': 2, 'specification': 2, 'structure': 2, 'theory': 2, 'theorist': 2, 'variable': 2, 'variant': 2, 'variation': 2, 'achievement': 2, 'acquisition': 2, 'administration': 2, 'administrator': 2, 'affect': 2, 'aspect': 2, 'assist': 2, 'assistant': 2, 'category': 2, 'chapter': 2, 'commission': 2, 'commissioner': 2, 'community': 2, 'complexity': 2, 'computation': 2, 'computer': 2, 'conclusion': 2, 'conduct': 2, 'consequence': 2, 'construct': 2, 'construction': 2, 'consumer': 2, 'credit': 2, 'creditor': 2, 'culture': 2, 'design': 2, 'designer': 2, 'distinction': 2, 'element': 2, 'equation': 2, 'evaluation': 2, 'feature': 2, 'final': 2, 'focus': 2, 'impact': 2, 'injury': 2, 'institute': 2, 'institution': 2, 'investment': 2, 'investor': 2, 'item': 2, 'journal': 2, 'participant': 2, 'perception': 2, 'purchase': 2, 'purchaser': 2, 'range': 2, 'region': 2, 'regulation': 2, 'regulator': 2, 'resident': 2, 'resource': 2, 'restriction': 2, 'insecurity': 2, 'security': 2, 'seek': 2, 'selection': 2, 'selector': 2, 'site': 2, 'strategy': 2, 'strategist': 2, 'survey': 2, 'text': 2, 'tradition': 2, 'transfer': 2, 'alternative': 2, 'circumstance': 2, 'comment': 2, 'commentary': 2, 'commentator': 2, 'compensation': 2, 'component': 2, 'consent': 2, 'constant': 2, 'constraint': 2, 'contribution': 2, 'contributor': 2, 'convention': 2, 'coordinator': 2, 'core': 2, 'corporation': 2, 'criterion': 2, 'deduction': 2, 'demonstration': 2, 'demonstrator': 2, 'document': 2, 'exclusion': 2, 'framework': 2, 'fund': 2, 'illustration': 2, 'immigrant': 2, 'instance': 2, 'interaction': 2, 'justification': 2, 'layer': 2, 'link': 2, 'linkage': 2, 'location': 2, 'minor': 2, 'minority': 2, 'negative': 2, 'outcome': 2, 'partner': 2, 'partnership': 2, 'philosophy': 2, 'philosopher': 2, 'proportion': 2, 'publisher': 2, 'reaction': 2, 'reactionary': 2, 'reactor': 2, 'register': 2, 'remove': 2, 'removal': 2, 'scheme': 2, 'sequence': 2, 'sex': 2, 'shift': 2, 'task': 2, 'technique': 2, 'volume': 2, 'access': 2, 'inadequacy': 2, 'approximation': 2, 'attitude': 2, 'attribute': 2, 'code': 2, 'commitment': 2, 'communication': 2, 'concentrate': 2, 'conference': 2, 'contrast': 2, 'cycle': 2, 'debate': 2, 'dimension': 2, 'domestic': 2, 'error': 2, 'goal': 2, 'grant': 2, 'implement': 2, 'implication': 2, 'investigation': 2, 'investigator': 2, 'job': 2, 'label': 2, 'mechanism': 2, 'occupant': 2, 'occupation': 2, 'occupier': 2, 'option': 2, 'output': 2, 'parallel': 2, 'parameter': 2, 'phase': 2, 'prediction': 2, 'professional': 2, 'project': 2, 'projection': 2, 'promoter': 2, 'promotion': 2, 'regime': 2, 'resolve': 2, 'retainer': 2, 'statistic': 2, 'statistician': 2, 'stress': 2, 'sum': 2, 'summary': 2, 'summarisation': 2, 'summarization': 2, 'academy': 2, 'adjustment': 2, 'readjustment': 2, 'alteration': 2, 'amendment': 2, 'capacity': 2, 'challenge': 2, 'challenger': 2, 'clause': 2, 'compound': 2, 'conflict': 2, 'consultant': 2, 'consultation': 2, 'contact': 2, 'decline': 2, 'draft': 2, 'redraft': 2, 'energy': 2, 'entity': 2, 'evolutionist': 2, 'expose': 2, 'exposure': 2, 'facility': 2, 'facilitator': 2, 'generation': 2, 'image': 2, 'liberal': 2, 'liberation': 2, 'liberator': 2, 'licence': 2, 'license': 2, 'logician': 2, 'margin': 2, 'modification': 2, 'monitor': 2, 'network': 2, 'notion': 2, 'orient': 2, 'perspective': 2, 'psychologist': 2, 'pursuit': 2, 'ratio': 2, 'reject': 2, 'rejection': 2, 'revenue': 2, 'style': 2, 'substitute': 2, 'symbol': 2, 'target': 2, 'transit': 2, 'transition': 2, 'trend': 2, 'version': 2, 'abstract': 2, 'abstraction': 2, 'inaccuracy': 2, 'aggregate': 2, 'allocation': 2, 'assignment': 2, 'attachment': 2, 'author': 2, 'bond': 2, 'brief': 2, 'capability': 2, 'cite': 2, 'citation': 2, 'cooperate': 2, 'display': 2, 'domain': 2, 'edition': 2, 'editor': 2, 'editorial': 2, 'estate': 2, 'expert': 2, 'federation': 2, 'fee': 2, 'gender': 2, 'incentive': 2, 'incident': 2, 'index': 2, 'inhibition': 2, 'initiate': 2, 'initiation': 2, 'initiative': 2, 'initiator': 2, 'input': 2, 'instruction': 2, 'instructor': 2, 'interval': 2, 'lecture': 2, 'lecturer': 2, 'migrant': 2, 'migration': 2, 'ministry': 2, 'motivation': 2, 'presumption': 2, 'rationalisation': 2, 'rationalization': 2, 'revelation': 2, 'subsidy': 2, 'tape': 2, 'trace': 2, 'transformation': 2, 'transport': 2, 'transporter': 2, 'utiliser': 2, 'utility': 2, 'adaptation': 2, 'adult': 2, 'advocate': 2, 'aid': 2, 'channel': 2, 'chemical': 2, 'classic': 2, 'convert': 2, 'conversion': 2, 'couple': 2, 'decade': 2, 'denial': 2, 'dynamic': 2, 'extract': 2, 'file': 2, 'foundation': 2, 'grade': 2, 'guarantee': 2, 'hierarchy': 2, 'ideology': 2, 'inference': 2, 'innovation': 2, 'innovator': 2, 'insert': 2, 'intervention': 2, 'medium': 2, 'mode': 2, 'paradigm': 2, 'phenomenon': 2, 'priority': 2, 'prohibition': 2, 'publication': 2, 'quote': 2, 'quotation': 2, 'release': 2, 'reversal': 2, 'submission': 2, 'successor': 2, 'succession': 2, 'survivor': 2, 'thesis': 2, 'topic': 2, 'transmission': 2, 'volunteer': 2, 'abandon': 2, 'ambiguity': 2, 'bias': 2, 'chart': 2, 'commodity': 2, 'complement': 2, 'conformist': 2, 'nonconformity': 2, 'contemporary': 2, 'contradiction': 2, 'currency': 2, 'denotation': 2, 'detective': 2, 'detector': 2, 'deviate': 2, 'deviation': 2, 'drama': 2, 'dramatisation': 2, 'dramatist': 2, 'dramatization': 2, 'exhibit': 2, 'exhibition': 2, 'exploit': 2, 'fluctuation': 2, 'guideline': 2, 'highlight': 2, 'infrastructure': 2, 'inspection': 2, 'inspector': 2, 'manipulation': 2, 'offset': 2, 'paragraph': 2, 'plus': 2, 'practitioner': 2, 'prospect': 2, 'radical': 2, 'reinforcement': 2, 'revise': 2, 'revision': 2, 'schedule': 2, 'tension': 2, 'terminal': 2, 'termination': 2, 'theme': 2, 'vehicle': 2, 'analogy': 2, 'assurance': 2, 'attainment': 2, 'cease': 2, 'coincidence': 2, 'controversy': 2, 'device': 2, 'devotion': 2, 'distortion': 2, 'ethic': 2, 'format': 2, 'founder': 2, 'insight': 2, 'manual': 2, 'minimalist': 2, 'norm': 2, 'overlap': 2, 'portion': 2, 'preliminary': 2, 'protocol': 2, 'refinement': 2, 'restraint': 2, 'revolution': 2, 'revolutionary': 2, 'revolutionist': 2, 'rigidity': 2, 'route': 2, 'scenario': 2, 'sphere': 2, 'subordinate': 2, 'supplement': 2, 'team': 2, 'trigger': 2, 'violation': 2, 'vision': 2, 'assembly': 2, 'collapse': 2, 'colleague': 2, 'compilation': 2, 'encounter': 2, 'incline': 2, 'inclination': 2, 'levy': 2, 'panel': 2, 'pose': 2, 'analyse': 1, 'analysed': 1, 'analysing': 1, 'analytic': 1, 'analytical': 1, 'analytically': 1, 'analyze': 1, 'analyzed': 1, 'analyzes': 1, 'analyzing': 1, 'approachable': 1, 'approached': 1, 'approaching': 1, 'unapproachable': 1, 'assessable': 1, 'assessed': 1, 'assessing': 1, 'reassess': 1, 'reassessed': 1, 'reassessing': 1, 'reassessment': 1, 'unassessed': 1, 'assume': 1, 'assumed': 1, 'assumes': 1, 'assuming': 1, 'authoritative': 1, 'available': 1, 'availability': 1, 'unavailable': 1, 'beneficial': 1, 'benefited': 1, 'benefiting': 1, 'conception': 1, 'conceptual': 1, 'conceptualisation': 1, 'conceptualise': 1, 'conceptualised': 1, 'conceptualises': 1, 'conceptualising': 1, 'conceptually': 1, 'consist': 1, 'consisted': 1, 'consistency': 1, 'consistent': 1, 'consistently': 1, 'consisting': 1, 'consists': 1, 'inconsistent': 1, 'constitute': 1, 'constituted': 1, 'constitutes': 1, 'constituting': 1, 'constitutional': 1, 'constitutionally': 1, 'constitutive': 1, 'unconstitutional': 1, 'contextual': 1, 'contextualise': 1, 'contextualised': 1, 'contextualising': 1, 'uncontextualised': 1, 'contextualize': 1, 'contextualized': 1, 'contextualizing': 1, 'uncontextualized': 1, 'contracted': 1, 'contracting': 1, 'create': 1, 'created': 1, 'creates': 1, 'creating': 1, 'creative': 1, 'creatively': 1, 'creativity': 1, 'recreate': 1, 'recreated': 1, 'recreates': 1, 'recreating': 1, 'data': 1, 'define': 1, 'definable': 1, 'defined': 1, 'defines': 1, 'defining': 1, 'redefine': 1, 'redefined': 1, 'redefines': 1, 'redefining': 1, 'undefined': 1, 'derive': 1, 'derived': 1, 'derives': 1, 'deriving': 1, 'distribute': 1, 'distributed': 1, 'distributing': 1, 'distributional': 1, 'distributive': 1, 'redistribute': 1, 'redistributed': 1, 'redistributes': 1, 'redistributing': 1, 'redistribution': 1, 'economic': 1, 'economical': 1, 'economically': 1, 'economics': 1, 'uneconomical': 1, 'environmental': 1, 'environmentally': 1, 'establish': 1, 'disestablish': 1, 'disestablished': 1, 'disestablishes': 1, 'disestablishing': 1, 'disestablishment': 1, 'established': 1, 'establishes': 1, 'establishing': 1, 'estimated': 1, 'estimating': 1, 'over‑estimate': 1, 'overestimated': 1, 'overestimating': 1, 'underestimated': 1, 'underestimating': 1, 'evident': 1, 'evidenced': 1, 'evidence': 1, 'evidential': 1, 'evidently': 1, 'exported': 1, 'exporting': 1, 'factored': 1, 'factoring': 1, 'financed': 1, 'financial': 1, 'financially': 1, 'financing': 1, 'formulate': 1, 'formulated': 1, 'formulating': 1, 'reformulate': 1, 'reformulated': 1, 'reformulating': 1, 'reformulation': 1, 'reformulations': 1, 'functional': 1, 'functionally': 1, 'functioned': 1, 'functioning': 1, 'identify': 1, 'identifiable': 1, 'identification': 1, 'identified': 1, 'identifies': 1, 'identifying': 1, 'unidentifiable': 1, 'indicate': 1, 'indicated': 1, 'indicates': 1, 'indicating': 1, 'indicative': 1, 'individualised': 1, 'individuality': 1, 'individualism': 1, 'individualistic': 1, 'individually': 1, 'interpret': 1, 'interpretative': 1, 'interpreted': 1, 'interpreting': 1, 'interpretive': 1, 'interprets': 1, 'misinterpret': 1, 'misinterpreted': 1, 'misinterpreting': 1, 'misinterprets': 1, 'reinterpret': 1, 'reinterpreted': 1, 'reinterprets': 1, 'reinterpreting': 1, 'involve': 1, 'involved': 1, 'involvement': 1, 'involves': 1, 'involving': 1, 'uninvolved': 1, 'issued': 1, 'issuing': 1, 'labored': 1, 'laboured': 1, 'labouring': 1, 'legal': 1, 'illegal': 1, 'illegality': 1, 'illegally': 1, 'legality': 1, 'legally': 1, 'legislate': 1, 'legislated': 1, 'legislates': 1, 'legislating': 1, 'legislation': 1, 'legislative': 1, 'legislature': 1, 'major': 1, 'methodical': 1, 'methodological': 1, 'occur': 1, 'occurred': 1, 'occurring': 1, 'occurs': 1, 'reoccur': 1, 'reoccurred': 1, 'reoccurring': 1, 'reoccurs': 1, 'percent': 1, 'periodic': 1, 'periodically': 1, 'principled': 1, 'unprincipled': 1, 'proceed': 1, 'procedural': 1, 'proceeded': 1, 'proceeds': 1, 'processed': 1, 'processing': 1, 'require': 1, 'required': 1, 'requires': 1, 'requiring': 1, 'researched': 1, 'researching': 1, 'respond': 1, 'responded': 1, 'responding': 1, 'responds': 1, 'responsive': 1, 'responsiveness': 1, 'unresponsive': 1, 'sectioned': 1, 'sectioning': 1, 'significant': 1, 'insignificant': 1, 'insignificantly': 1, 'significance': 1, 'significantly': 1, 'signified': 1, 'signifies': 1, 'signify': 1, 'signifying': 1, 'similar': 1, 'dissimilar': 1, 'similarly': 1, 'sourced': 1, 'sourcing': 1, 'specifically': 1, 'specificity': 1, 'restructure': 1, 'restructured': 1, 'restructures': 1, 'restructuring': 1, 'structural': 1, 'structurally': 1, 'structured': 1, 'structuring': 1, 'unstructured': 1, 'theoretical': 1, 'theoretically': 1, 'vary': 1, 'invariable': 1, 'invariably': 1, 'variability': 1, 'variably': 1, 'variance': 1, 'varied': 1, 'varies': 1, 'varying': 1, '2': 1, 'achieve': 1, 'achievable': 1, 'achieved': 1, 'achieves': 1, 'achieving': 1, 'acquire': 1, 'acquired': 1, 'acquires': 1, 'acquiring': 1, 'administrate': 1, 'administrates': 1, 'administrative': 1, 'administratively': 1, 'affected': 1, 'affecting': 1, 'affective': 1, 'affectively': 1, 'unaffected': 1, 'appropriate': 1, 'appropriacy': 1, 'appropriately': 1, 'appropriateness': 1, 'inappropriacy': 1, 'inappropriate': 1, 'inappropriately': 1, 'assistance': 1, 'assisted': 1, 'assisting': 1, 'unassisted': 1, 'categorisation': 1, 'categorise': 1, 'categorised': 1, 'categorises': 1, 'categorising': 1, 'categorization': 1, 'categorized': 1, 'categorizes': 1, 'categorizing': 1, 'commissioned': 1, 'commissioning': 1, 'complex': 1, 'compute': 1, 'computational': 1, 'computable': 1, 'computed': 1, 'computerised': 1, 'computing': 1, 'conclude': 1, 'concluded': 1, 'concludes': 1, 'concluding': 1, 'conclusive': 1, 'conclusively': 1, 'inconclusive': 1, 'inconclusively': 1, 'conducted': 1, 'conducting': 1, 'consequent': 1, 'consequently': 1, 'constructed': 1, 'constructing': 1, 'constructive': 1, 'reconstruct': 1, 'reconstructed': 1, 'reconstructing': 1, 'reconstruction': 1, 'reconstructs': 1, 'consume': 1, 'consumed': 1, 'consumes': 1, 'consuming': 1, 'consumption': 1, 'credited': 1, 'crediting': 1, 'cultural': 1, 'culturally': 1, 'cultured': 1, 'uncultured': 1, 'designed': 1, 'designing': 1, 'distinct': 1, 'distinctive': 1, 'distinctively': 1, 'distinctly': 1, 'indistinct': 1, 'indistinctly': 1, 'equate': 1, 'equated': 1, 'equates': 1, 'equating': 1, 'evaluate': 1, 'evaluated': 1, 'evaluates': 1, 'evaluating': 1, 'evaluative': 1, 'reevaluate': 1, 'reevaluated': 1, 'reevaluates': 1, 'reevaluating': 1, 'reevaluation': 1, 'featured': 1, 'featuring': 1, 'finalise': 1, 'finalised': 1, 'finalises': 1, 'finalising': 1, 'finalize': 1, 'finalized': 1, 'finalizes': 1, 'finalizing': 1, 'finality': 1, 'finally': 1, 'focused': 1, 'focusing': 1, 'focussed': 1, 'focussing': 1, 'refocus': 1, 'refocused': 1, 'refocuses': 1, 'refocusing': 1, 'refocussed': 1, 'refocusses': 1, 'refocussing': 1, 'impacted': 1, 'impacting': 1, 'injure': 1, 'injured': 1, 'injures': 1, 'injuring': 1, 'uninjured': 1, 'instituted': 1, 'instituting': 1, 'institutional': 1, 'institutionalise': 1, 'institutionalised': 1, 'institutionalises': 1, 'institutionalising': 1, 'institutionalized': 1, 'institutionalizes': 1, 'institutionalizing': 1, 'institutionally': 1, 'invest': 1, 'invested': 1, 'investing': 1, 'invests': 1, 'reinvest': 1, 'reinvested': 1, 'reinvesting': 1, 'reinvestment': 1, 'reinvests': 1, 'itemisation': 1, 'itemise': 1, 'itemised': 1, 'itemises': 1, 'itemising': 1, 'maintain': 1, 'maintained': 1, 'maintaining': 1, 'maintains': 1, 'maintenance': 1, 'normal': 1, 'abnormal': 1, 'abnormally': 1, 'normalisation': 1, 'normalise': 1, 'normalised': 1, 'normalises': 1, 'normalising': 1, 'normalization': 1, 'normalize': 1, 'normalized': 1, 'normalizes': 1, 'normalizing': 1, 'normality': 1, 'normally': 1, 'obtain': 1, 'obtainable': 1, 'obtained': 1, 'obtaining': 1, 'obtains': 1, 'unobtainable': 1, 'participate': 1, 'participated': 1, 'participates': 1, 'participating': 1, 'participation': 1, 'participatory': 1, 'perceive': 1, 'perceived': 1, 'perceives': 1, 'perceiving': 1, 'positive': 1, 'positively': 1, 'potential': 1, 'potentially': 1, 'previous': 1, 'previously': 1, 'primary': 1, 'primarily': 1, 'purchased': 1, 'purchasing': 1, 'ranged': 1, 'ranging': 1, 'regional': 1, 'regionally': 1, 'regulate': 1, 'deregulated': 1, 'deregulates': 1, 'deregulating': 1, 'deregulation': 1, 'regulated': 1, 'regulates': 1, 'regulating': 1, 'regulatory': 1, 'unregulated': 1, 'relevant': 1, 'irrelevance': 1, 'irrelevant': 1, 'relevance': 1, 'reside': 1, 'resided': 1, 'residence': 1, 'residential': 1, 'resides': 1, 'residing': 1, 'resourced': 1, 'resourceful': 1, 'resourcing': 1, 'unresourceful': 1, 'underresourced': 1, 'restrict': 1, 'restricted': 1, 'restricting': 1, 'restrictive': 1, 'restrictively': 1, 'restricts': 1, 'unrestricted': 1, 'unrestrictive': 1, 'secure': 1, 'insecure': 1, 'secured': 1, 'securely': 1, 'secures': 1, 'securing': 1, 'seeking': 1, 'sought': 1, 'select': 1, 'selected': 1, 'selecting': 1, 'selective': 1, 'selectively': 1, 'selects': 1, 'strategic': 1, 'strategically': 1, 'surveyed': 1, 'surveying': 1, 'textual': 1, 'non‑traditional': 1, 'traditional': 1, 'traditionalist': 1, 'traditionally': 1, 'transferable': 1, 'transference': 1, 'transferred': 1, 'transferring': 1, '3': 1, 'alternatively': 1, 'commented': 1, 'commenting': 1, 'compensate': 1, 'compensated': 1, 'compensates': 1, 'compensating': 1, 'compensatory': 1, 'componentry': 1, 'consensus': 1, 'consented': 1, 'consenting': 1, 'considerable': 1, 'considerably': 1, 'constancy': 1, 'constantly': 1, 'inconstancy': 1, 'inconstantly': 1, 'constrain': 1, 'constrained': 1, 'constraining': 1, 'constrains': 1, 'unconstrained': 1, 'contribute': 1, 'contributed': 1, 'contributes': 1, 'contributing': 1, 'convene': 1, 'convenes': 1, 'convened': 1, 'convening': 1, 'conventional': 1, 'conventionally': 1, 'unconventional': 1, 'coordinated': 1, 'coordinating': 1, 'coordination': 1, 'co‑ordinated': 1, 'co‑ordinates': 1, 'co‑ordinating': 1, 'co‑ordination': 1, 'co‑ordinator': 1, 'co‑ordinators': 1, 'coring': 1, 'cored': 1, 'corporate': 1, 'corporates': 1, 'correspond': 1, 'corresponded': 1, 'correspondence': 1, 'corresponding': 1, 'correspondingly': 1, 'corresponds': 1, 'deduce': 1, 'deduced': 1, 'deduces': 1, 'deducing': 1, 'demonstrate': 1, 'demonstrable': 1, 'demonstrably': 1, 'demonstrated': 1, 'demonstrates': 1, 'demonstrating': 1, 'demonstrative': 1, 'demonstratively': 1, 'documentation': 1, 'documented': 1, 'documenting': 1, 'dominate': 1, 'dominance': 1, 'dominant': 1, 'dominated': 1, 'dominates': 1, 'dominating': 1, 'domination': 1, 'emphasis': 1, 'emphasise': 1, 'emphasised': 1, 'emphasising': 1, 'emphasize': 1, 'emphasized': 1, 'emphasizes': 1, 'emphasizing': 1, 'emphatic': 1, 'emphatically': 1, 'ensure': 1, 'ensured': 1, 'ensures': 1, 'ensuring': 1, 'exclude': 1, 'excluded': 1, 'excludes': 1, 'excluding': 1, 'exclusionary': 1, 'exclusionist': 1, 'exclusive': 1, 'exclusively': 1, 'funded': 1, 'funder': 1, 'funders': 1, 'funding': 1, 'illustrate': 1, 'illustrated': 1, 'illustrates': 1, 'illustrating': 1, 'illustrative': 1, 'immigrate': 1, 'immigrated': 1, 'immigrates': 1, 'immigrating': 1, 'immigration': 1, 'imply': 1, 'implied': 1, 'implies': 1, 'implying': 1, 'initial': 1, 'initially': 1, 'interact': 1, 'interacted': 1, 'interacting': 1, 'interactive': 1, 'interactively': 1, 'interacts': 1, 'justify': 1, 'justifiable': 1, 'justifiably': 1, 'justified': 1, 'justifies': 1, 'justifying': 1, 'unjustified': 1, 'layered': 1, 'layering': 1, 'linked': 1, 'linking': 1, 'locate': 1, 'located': 1, 'locating': 1, 'relocate': 1, 'relocated': 1, 'relocates': 1, 'relocating': 1, 'relocation': 1, 'maximise': 1, 'max': 1, 'maximised': 1, 'maximises': 1, 'maximising': 1, 'maximisation': 1, 'maximize': 1, 'maximized': 1, 'maximizes': 1, 'maximizing': 1, 'maximization': 1, 'maximum': 1, 'negate': 1, 'negated': 1, 'negates': 1, 'negating': 1, 'negatively': 1, 'philosophical': 1, 'philosophically': 1, 'philosophise': 1, 'philosophised': 1, 'philosophises': 1, 'philosophising': 1, 'philosophize': 1, 'philosophized': 1, 'philosophizes': 1, 'philosophizing': 1, 'physical': 1, 'physically': 1, 'disproportion': 1, 'disproportionate': 1, 'disproportionately': 1, 'proportional': 1, 'proportionally': 1, 'proportionate': 1, 'proportionately': 1, 'publish': 1, 'published': 1, 'publishes': 1, 'publishing': 1, 'unpublished': 1, 'react': 1, 'reacted': 1, 'reacts': 1, 'reacting': 1, 'reactive': 1, 'reactivate': 1, 'reactivation': 1, 'deregister': 1, 'deregistered': 1, 'deregistering': 1, 'deregisters': 1, 'deregistration': 1, 'registered': 1, 'registering': 1, 'registration': 1, 'rely': 1, 'reliability': 1, 'reliable': 1, 'reliably': 1, 'reliance': 1, 'reliant': 1, 'relied': 1, 'relies': 1, 'relying': 1, 'unreliable': 1, 'removable': 1, 'removed': 1, 'removing': 1, 'schematic': 1, 'schematically': 1, 'schemed': 1, 'scheming': 1, 'sequenced': 1, 'sequencing': 1, 'sequential': 1, 'sequentially': 1, 'sexism': 1, 'sexual': 1, 'sexuality': 1, 'sexually': 1, 'shifted': 1, 'shifting': 1, 'specify': 1, 'specifiable': 1, 'specified': 1, 'specifies': 1, 'specifying': 1, 'unspecified': 1, 'sufficient': 1, 'sufficiency': 1, 'insufficient': 1, 'insufficiently': 1, 'sufficiently': 1, 'technical': 1, 'technically': 1, 'technology': 1, 'technological': 1, 'technologically': 1, 'valid': 1, 'invalidate': 1, 'invalidity': 1, 'validate': 1, 'validated': 1, 'validating': 1, 'validation': 1, 'validity': 1, 'validly': 1, 'vol': 1, '4': 1, 'accessed': 1, 'accessibility': 1, 'accessible': 1, 'accessing': 1, 'inaccessible': 1, 'adequate': 1, 'adequacy': 1, 'adequately': 1, 'inadequate': 1, 'inadequately': 1, 'annual': 1, 'annually': 1, 'apparent': 1, 'apparently': 1, 'approximate': 1, 'approximated': 1, 'approximately': 1, 'approximates': 1, 'approximating': 1, 'attributable': 1, 'attributed': 1, 'attributing': 1, 'attribution': 1, 'civil': 1, 'coded': 1, 'coding': 1, 'commit': 1, 'commits': 1, 'committed': 1, 'committing': 1, 'communicate': 1, 'communicable': 1, 'communicated': 1, 'communicates': 1, 'communicating': 1, 'communicative': 1, 'communicatively': 1, 'uncommunicative': 1, 'concentrated': 1, 'concentrating': 1, 'concentration': 1, 'confer': 1, 'conferred': 1, 'conferring': 1, 'confers': 1, 'contrasted': 1, 'contrasting': 1, 'contrastive': 1, 'cycled': 1, 'cyclic': 1, 'cyclical': 1, 'cycling': 1, 'debatable': 1, 'debated': 1, 'debating': 1, 'despite': 1, 'dimensional': 1, 'multidimensional': 1, 'domestically': 1, 'domesticate': 1, 'domesticated': 1, 'domesticating': 1, 'emerge': 1, 'emerged': 1, 'emergence': 1, 'emergent': 1, 'emerges': 1, 'emerging': 1, 'erroneous': 1, 'erroneously': 1, 'ethnic': 1, 'ethnicity': 1, 'granted': 1, 'granting': 1, 'hence': 1, 'hypothesise': 1, 'hypothesised': 1, 'hypothesising': 1, 'hypothesize': 1, 'hypothesized': 1, 'hypothesizes': 1, 'hypothesizing': 1, 'hypothetical': 1, 'hypothetically': 1, 'implementation': 1, 'implemented': 1, 'implementing': 1, 'implicate': 1, 'implicated': 1, 'implicates': 1, 'implicating': 1, 'impose': 1, 'imposed': 1, 'imposes': 1, 'imposing': 1, 'imposition': 1, 'integrate': 1, 'integrated': 1, 'integrates': 1, 'integrating': 1, 'integration': 1, 'internal': 1, 'internalise': 1, 'internalised': 1, 'internalises': 1, 'internalising': 1, 'internalize': 1, 'internalized': 1, 'internalizes': 1, 'internalizing': 1, 'internally': 1, 'investigate': 1, 'investigated': 1, 'investigates': 1, 'investigating': 1, 'investigative': 1, 'labeled': 1, 'labeling': 1, 'labelled': 1, 'labelling': 1, 'obvious': 1, 'obviously': 1, 'occupy': 1, 'occupancy': 1, 'occupational': 1, 'occupied': 1, 'occupies': 1, 'occupying': 1, 'optional': 1, 'overall': 1, 'paralleled': 1, 'parallelled': 1, 'parallelling': 1, 'unparalleled': 1, 'phased': 1, 'phasing': 1, 'predict': 1, 'predictability': 1, 'predictable': 1, 'predictably': 1, 'predicted': 1, 'predicting': 1, 'predicts': 1, 'unpredictability': 1, 'unpredictable': 1, 'principal': 1, 'principally': 1, 'prior': 1, 'professionally': 1, 'professionalism': 1, 'projected': 1, 'projecting': 1, 'promote': 1, 'promoted': 1, 'promotes': 1, 'promoting': 1, 'resolution': 1, 'resolved': 1, 'resolving': 1, 'unresolved': 1, 'retain': 1, 'retained': 1, 'retaining': 1, 'retains': 1, 'retention': 1, 'retentive': 1, 'series': 1, 'statistical': 1, 'statistically': 1, 'status': 1, 'stressed': 1, 'stressful': 1, 'stressing': 1, 'unstressed': 1, 'subsequent': 1, 'subsequently': 1, 'summation': 1, 'summed': 1, 'summing': 1, 'summarise': 1, 'summarised': 1, 'summarises': 1, 'summarising': 1, 'summarize': 1, 'summarized': 1, 'summarizes': 1, 'summarizing': 1, 'undertake': 1, 'undertaken': 1, 'undertakes': 1, 'undertaking': 1, 'undertook': 1, '5': 1, 'academia': 1, 'academically': 1, 'adjust': 1, 'adjusted': 1, 'adjusting': 1, 'adjusts': 1, 'readjust': 1, 'readjusted': 1, 'readjusting': 1, 'readjusts': 1, 'alter': 1, 'alterable': 1, 'altered': 1, 'altering': 1, 'alternate': 1, 'alternating': 1, 'alters': 1, 'unalterable': 1, 'unaltered': 1, 'amend': 1, 'amended': 1, 'amending': 1, 'amends': 1, 'aware': 1, 'awareness': 1, 'unaware': 1, 'incapacitate': 1, 'incapacitated': 1, 'challenged': 1, 'challenging': 1, 'compounded': 1, 'compounding': 1, 'conflicted': 1, 'conflicting': 1, 'consult': 1, 'consultancy': 1, 'consultative': 1, 'consulted': 1, 'consults': 1, 'consulting': 1, 'contactable': 1, 'contacted': 1, 'contacting': 1, 'declined': 1, 'declining': 1, 'discrete': 1, 'discretely': 1, 'discretion': 1, 'discretionary': 1, 'indiscrete': 1, 'indiscretion': 1, 'drafted': 1, 'drafting': 1, 'redrafted': 1, 'redrafting': 1, 'enable': 1, 'enabled': 1, 'enables': 1, 'enabling': 1, 'energetic': 1, 'energetically': 1, 'enforce': 1, 'enforced': 1, 'enforcement': 1, 'enforces': 1, 'enforcing': 1, 'equivalent': 1, 'equivalence': 1, 'evolve': 1, 'evolution': 1, 'evolved': 1, 'evolving': 1, 'evolves': 1, 'evolutionary': 1, 'expand': 1, 'expanded': 1, 'expanding': 1, 'expands': 1, 'expansion': 1, 'expansionism': 1, 'expansive': 1, 'exposed': 1, 'exposing': 1, 'external': 1, 'externalisation': 1, 'externalise': 1, 'externalised': 1, 'externalises': 1, 'externalising': 1, 'externality': 1, 'externalization': 1, 'externalize': 1, 'externalized': 1, 'externalizes': 1, 'externalizing': 1, 'externally': 1, 'facilitate': 1, 'facilitated': 1, 'facilitates': 1, 'facilitating': 1, 'facilitation': 1, 'fundamental': 1, 'fundamentally': 1, 'generate': 1, 'generated': 1, 'generates': 1, 'generating': 1, 'imagery': 1, 'liberalise': 1, 'liberalism': 1, 'liberalisation': 1, 'liberalised': 1, 'liberalises': 1, 'liberalising': 1, 'liberalization': 1, 'liberalize': 1, 'liberalized': 1, 'liberalizes': 1, 'liberalizing': 1, 'liberate': 1, 'liberated': 1, 'liberates': 1, 'liberating': 1, 'liberally': 1, 'licensed': 1, 'licensing': 1, 'unlicensed': 1, 'logic': 1, 'illogical': 1, 'illogically': 1, 'logical': 1, 'logically': 1, 'marginal': 1, 'marginally': 1, 'medical': 1, 'medically': 1, 'mental': 1, 'mentality': 1, 'mentally': 1, 'modify': 1, 'modified': 1, 'modifies': 1, 'modifying': 1, 'unmodified': 1, 'monitored': 1, 'monitoring': 1, 'unmonitored': 1, 'networked': 1, 'networking': 1, 'objective': 1, 'objectively': 1, 'objectivity': 1, 'orientate': 1, 'orientated': 1, 'orientates': 1, 'orientation': 1, 'orientating': 1, 'oriented': 1, 'orienting': 1, 'reorient': 1, 'reorientation': 1, 'precise': 1, 'imprecise': 1, 'precisely': 1, 'precision': 1, 'prime': 1, 'primacy': 1, 'psychology': 1, 'psychological': 1, 'psychologically': 1, 'pursue': 1, 'pursued': 1, 'pursues': 1, 'pursuing': 1, 'rejected': 1, 'rejecting': 1, 'stable': 1, 'instability': 1, 'stabilisation': 1, 'stabilise': 1, 'stabilised': 1, 'stabilises': 1, 'stabilising': 1, 'stabilization': 1, 'stabilize': 1, 'stabilized': 1, 'stabilizes': 1, 'stabilizing': 1, 'stability': 1, 'unstable': 1, 'styled': 1, 'styling': 1, 'stylish': 1, 'stylise': 1, 'stylised': 1, 'stylises': 1, 'stylising': 1, 'stylize': 1, 'stylized': 1, 'stylizes': 1, 'stylizing': 1, 'substituted': 1, 'substituting': 1, 'substitution': 1, 'sustain': 1, 'sustainable': 1, 'sustainability': 1, 'sustained': 1, 'sustaining': 1, 'sustains': 1, 'sustenance': 1, 'unsustainable': 1, 'symbolic': 1, 'symbolically': 1, 'symbolise': 1, 'symbolises': 1, 'symbolised': 1, 'symbolising': 1, 'symbolism': 1, 'symbolize': 1, 'symbolized': 1, 'symbolizes': 1, 'symbolizing': 1, 'targeted': 1, 'targeting': 1, 'transited': 1, 'transiting': 1, 'transitional': 1, 'transitory': 1, 'welfare': 1, 'whereas': 1, '6': 1, 'abstractly': 1, 'accurate': 1, 'accuracy': 1, 'accurately': 1, 'inaccurate': 1, 'acknowledge': 1, 'acknowledged': 1, 'acknowledges': 1, 'acknowledging': 1, 'acknowledgement': 1, 'acknowledgemens': 1, 'aggregated': 1, 'aggregating': 1, 'aggregation': 1, 'allocate': 1, 'allocated': 1, 'allocates': 1, 'allocating': 1, 'assign': 1, 'assigned': 1, 'assigning': 1, 'assigns': 1, 'reassign': 1, 'reassigned': 1, 'reassigning': 1, 'reassigns': 1, 'unassigned': 1, 'attach': 1, 'attached': 1, 'attache': 1, 'attaching': 1, 'unattached': 1, 'authored': 1, 'authoring': 1, 'authorship': 1, 'bonded': 1, 'bonding': 1, 'brevity': 1, 'briefed': 1, 'briefing': 1, 'briefly': 1, 'capable': 1, 'incapable': 1, 'cited': 1, 'citing': 1, 'cooperated': 1, 'cooperates': 1, 'cooperating': 1, 'cooperation': 1, 'cooperative': 1, 'cooperatively': 1, 'co‑operated': 1, 'co‑operates': 1, 'co‑operation': 1, 'co‑operative': 1, 'co‑operatively': 1, 'discriminate': 1, 'discriminated': 1, 'discriminates': 1, 'discriminating': 1, 'discrimination': 1, 'displayed': 1, 'displaying': 1, 'diverse': 1, 'diversely': 1, 'diversification': 1, 'diversified': 1, 'diversifies': 1, 'diversify': 1, 'diversifying': 1, 'diversity': 1, 'edit': 1, 'edited': 1, 'editing': 1, 'edits': 1, 'enhance': 1, 'enhanced': 1, 'enhancement': 1, 'enhances': 1, 'enhancing': 1, 'exceed': 1, 'exceeded': 1, 'exceeding': 1, 'exceeds': 1, 'expertise': 1, 'expertly': 1, 'explicit': 1, 'explicitly': 1, 'federal': 1, 'flexible': 1, 'flexibility': 1, 'inflexible': 1, 'inflexibility': 1, 'furthermore': 1, 'ignorant': 1, 'ignorance': 1, 'ignore': 1, 'ignored': 1, 'ignores': 1, 'ignoring': 1, 'incidence': 1, 'incidentally': 1, 'incorporate': 1, 'incorporated': 1, 'incorporates': 1, 'incorporating': 1, 'incorporation': 1, 'indexed': 1, 'indexing': 1, 'inhibit': 1, 'inhibited': 1, 'inhibiting': 1, 'inhibits': 1, 'initiated': 1, 'initiating': 1, 'instruct': 1, 'instructed': 1, 'instructing': 1, 'instructive': 1, 'instructs': 1, 'intelligent': 1, 'intelligence': 1, 'intelligently': 1, 'unintelligent': 1, 'lectured': 1, 'lecturing': 1, 'migrate': 1, 'migrated': 1, 'migrates': 1, 'migrating': 1, 'migratory': 1, 'minimum': 1, 'ministered': 1, 'ministering': 1, 'ministerial': 1, 'motive': 1, 'motivate': 1, 'motivated': 1, 'motivates': 1, 'motivating': 1, 'motif': 1, 'unmotivated': 1, 'neutral': 1, 'neutralisation': 1, 'neutralise': 1, 'neutralised': 1, 'neutralises': 1, 'neutralising': 1, 'neutrality': 1, 'neutralization': 1, 'neutralize': 1, 'neutralized': 1, 'neutralizes': 1, 'neutralizing': 1, 'nevertheless': 1, 'overseas': 1, 'precede': 1, 'preceded': 1, 'precedence': 1, 'precedent': 1, 'precedes': 1, 'preceding': 1, 'unprecedented': 1, 'presume': 1, 'presumably': 1, 'presumed': 1, 'presumes': 1, 'presuming': 1, 'presumptuous': 1, 'rational': 1, 'irrational': 1, 'rationalise': 1, 'rationalised': 1, 'rationalises': 1, 'rationalising': 1, 'rationalism': 1, 'rationality': 1, 'rationalize': 1, 'rationalized': 1, 'rationalizes': 1, 'rationally': 1, 'recover': 1, 'recoverable': 1, 'recovered': 1, 'recovering': 1, 'recovers': 1, 'recovery': 1, 'reveal': 1, 'revealed': 1, 'revealing': 1, 'reveals': 1, 'scope': 1, 'subsidiary': 1, 'subsidise': 1, 'subsidised': 1, 'subsidises': 1, 'subsidising': 1, 'subsidize': 1, 'subsidized': 1, 'subsidizes': 1, 'subsidizing': 1, 'taped': 1, 'taping': 1, 'traceable': 1, 'traced': 1, 'tracing': 1, 'transform': 1, 'transformed': 1, 'transforming': 1, 'transforms': 1, 'transportation': 1, 'transported': 1, 'transporting': 1, 'underlie': 1, 'underlay': 1, 'underlies': 1, 'underlying': 1, 'utilise': 1, 'utilisation': 1, 'utilised': 1, 'utilises': 1, 'utilising': 1, 'utilization': 1, 'utilize': 1, 'utilized': 1, 'utilizes': 1, 'utilizing': 1, '7': 1, 'adapt': 1, 'adaptability': 1, 'adaptable': 1, 'adapted': 1, 'adapting': 1, 'adaptive': 1, 'adapts': 1, 'adulthood': 1, 'advocacy': 1, 'advocated': 1, 'advocating': 1, 'aided': 1, 'aiding': 1, 'unaided': 1, 'channelled': 1, 'channelling': 1, 'chemically': 1, 'classical': 1, 'comprehensive': 1, 'comprehensively': 1, 'comprise': 1, 'comprised': 1, 'comprises': 1, 'comprising': 1, 'confirm': 1, 'confirmation': 1, 'confirmed': 1, 'confirming': 1, 'confirms': 1, 'contrary': 1, 'contrarily': 1, 'converted': 1, 'convertible': 1, 'converting': 1, 'coupled': 1, 'coupling': 1, 'definite': 1, 'definitely': 1, 'definitive': 1, 'indefinite': 1, 'indefinitely': 1, 'deny': 1, 'deniable': 1, 'denied': 1, 'denies': 1, 'denying': 1, 'undeniable': 1, 'differentiate': 1, 'differentiated': 1, 'differentiates': 1, 'differentiating': 1, 'differentiation': 1, 'dispose': 1, 'disposable': 1, 'disposal': 1, 'disposed': 1, 'disposes': 1, 'disposing': 1, 'dynamically': 1, 'eliminate': 1, 'eliminated': 1, 'eliminates': 1, 'eliminating': 1, 'elimination': 1, 'empirical': 1, 'empirically': 1, 'empiricism': 1, 'equip': 1, 'equipment': 1, 'equipped': 1, 'equipping': 1, 'equips': 1, 'extracted': 1, 'extracting': 1, 'extraction': 1, 'filed': 1, 'filing': 1, 'finite': 1, 'infinite': 1, 'infinitely': 1, 'globe': 1, 'global': 1, 'globally': 1, 'globalisation': 1, 'globalization': 1, 'graded': 1, 'grading': 1, 'guaranteed': 1, 'guaranteeing': 1, 'hierarchical': 1, 'identical': 1, 'identically': 1, 'ideological': 1, 'ideologically': 1, 'infer': 1, 'inferred': 1, 'inferring': 1, 'infers': 1, 'innovate': 1, 'innovated': 1, 'innovates': 1, 'innovating': 1, 'innovative': 1, 'inserted': 1, 'inserting': 1, 'insertion': 1, 'intervene': 1, 'intervened': 1, 'intervenes': 1, 'intervening': 1, 'isolate': 1, 'isolated': 1, 'isolates': 1, 'isolating': 1, 'isolation': 1, 'isolationism': 1, 'phenomenal': 1, 'prioritisation': 1, 'prioritise': 1, 'prioritised': 1, 'prioritises': 1, 'prioritising': 1, 'prioritization': 1, 'prioritize': 1, 'prioritized': 1, 'prioritizes': 1, 'prioritizing': 1, 'prohibit': 1, 'prohibited': 1, 'prohibiting': 1, 'prohibitive': 1, 'prohibits': 1, 'quoted': 1, 'quoting': 1, 'released': 1, 'releasing': 1, 'reverse': 1, 'reversed': 1, 'revers': 1, 'reversible': 1, 'reversing': 1, 'irreversible': 1, 'simulate': 1, 'simulated': 1, 'simulates': 1, 'simulating': 1, 'simulation': 1, 'sole': 1, 'solely': 1, 'somewhat': 1, 'submit': 1, 'submits': 1, 'submitted': 1, 'submitting': 1, 'successive': 1, 'successively': 1, 'survive': 1, 'survival': 1, 'survived': 1, 'survives': 1, 'surviving': 1, 'topical': 1, 'transmit': 1, 'transmitted': 1, 'transmitting': 1, 'transmits': 1, 'ultimate': 1, 'ultimately': 1, 'unique': 1, 'uniquely': 1, 'uniqueness': 1, 'visible': 1, 'visibility': 1, 'visibly': 1, 'invisible': 1, 'invisibility': 1, 'voluntary': 1, 'voluntarily': 1, 'volunteering': 1, 'volunteered': 1, '8': 1, 'abandoned': 1, 'abandoning': 1, 'abandonment': 1, 'accompany': 1, 'accompanied': 1, 'accompanies': 1, 'accompaniment': 1, 'accompanying': 1, 'unaccompanied': 1, 'accumulate': 1, 'accumulated': 1, 'accumulating': 1, 'accumulation': 1, 'accumulates': 1, 'ambiguous': 1, 'unambiguous': 1, 'unambiguously': 1, 'append': 1, 'appended': 1, 'appends': 1, 'appending': 1, 'appreciate': 1, 'appreciable': 1, 'appreciably': 1, 'appreciated': 1, 'appreciates': 1, 'appreciating': 1, 'appreciation': 1, 'unappreciated': 1, 'arbitrary': 1, 'arbitrariness': 1, 'arbitrarily': 1, 'automate': 1, 'automatic': 1, 'automated': 1, 'automates': 1, 'automating': 1, 'automatically': 1, 'automation': 1, 'biased': 1, 'biasing': 1, 'unbiased': 1, 'charted': 1, 'charting': 1, 'uncharted': 1, 'clarify': 1, 'clarification': 1, 'clarified': 1, 'clarifies': 1, 'clarifying': 1, 'clarity': 1, 'complementary': 1, 'complemented': 1, 'complementing': 1, 'conform': 1, 'conformable': 1, 'conformability': 1, 'conformance': 1, 'conformation': 1, 'conformed': 1, 'conforming': 1, 'conformity': 1, 'conforms': 1, 'contradict': 1, 'contradicted': 1, 'contradicting': 1, 'contradictory': 1, 'contradicts': 1, 'crucial': 1, 'crucially': 1, 'denote': 1, 'denoted': 1, 'denotes': 1, 'denoting': 1, 'detect': 1, 'detectable': 1, 'detected': 1, 'detecting': 1, 'detection': 1, 'detects': 1, 'deviated': 1, 'deviating': 1, 'displace': 1, 'displaced': 1, 'displacement': 1, 'displaces': 1, 'displacing': 1, 'dramatic': 1, 'dramatically': 1, 'dramatise': 1, 'dramatised': 1, 'dramatising': 1, 'dramatises': 1, 'dramatize': 1, 'dramatized': 1, 'dramatizes': 1, 'dramatizing': 1, 'eventual': 1, 'eventuality': 1, 'eventually': 1, 'exhibited': 1, 'exhibiting': 1, 'exploitation': 1, 'exploited': 1, 'exploiting': 1, 'fluctuate': 1, 'fluctuated': 1, 'fluctuates': 1, 'fluctuating': 1, 'highlighted': 1, 'highlighting': 1, 'implicit': 1, 'implicitly': 1, 'induce': 1, 'induced': 1, 'induces': 1, 'inducing': 1, 'induction': 1, 'inevitable': 1, 'inevitability': 1, 'inevitably': 1, 'inspect': 1, 'inspected': 1, 'inspecting': 1, 'inspects': 1, 'intense': 1, 'intensely': 1, 'intenseness': 1, 'intensification': 1, 'intensified': 1, 'intensifies': 1, 'intensify': 1, 'intensifying': 1, 'intension': 1, 'intensity': 1, 'intensive': 1, 'intensively': 1, 'manipulate': 1, 'manipulated': 1, 'manipulates': 1, 'manipulating': 1, 'manipulative': 1, 'minimise': 1, 'minimised': 1, 'minimises': 1, 'minimising': 1, 'minimize': 1, 'minimized': 1, 'minimizes': 1, 'minimizing': 1, 'nuclear': 1, 'offsetting': 1, 'paragraphing': 1, 'predominant': 1, 'predominance': 1, 'predominantly': 1, 'predominate': 1, 'predominated': 1, 'predominates': 1, 'predominating': 1, 'prospective': 1, 'radically': 1, 'random': 1, 'randomly': 1, 'randomness': 1, 'reinforce': 1, 'reinforced': 1, 'reinforces': 1, 'reinforcing': 1, 'restore': 1, 'restoration': 1, 'restored': 1, 'restores': 1, 'restoring': 1, 'revised': 1, 'revising': 1, 'reschedule': 1, 'rescheduled': 1, 'reschedules': 1, 'rescheduling': 1, 'scheduled': 1, 'scheduling': 1, 'unscheduled': 1, 'tense': 1, 'tensely': 1, 'tenser': 1, 'tensest': 1, 'terminate': 1, 'terminated': 1, 'terminates': 1, 'terminating': 1, 'thematic': 1, 'thematically': 1, 'thereby': 1, 'uniform': 1, 'uniformity': 1, 'uniformly': 1, 'via': 1, 'virtual': 1, 'virtually': 1, 'visual': 1, 'visualise': 1, 'visualised': 1, 'visualising': 1, 'visualisation': 1, 'visualize': 1, 'visualized': 1, 'visualizing': 1, 'visualization': 1, 'visually': 1, 'widespread': 1, '9': 1, 'accommodate': 1, 'accommodated': 1, 'accommodates': 1, 'accommodating': 1, 'accommodation': 1, 'analogous': 1, 'anticipate': 1, 'anticipated': 1, 'anticipates': 1, 'anticipating': 1, 'anticipation': 1, 'unanticipated': 1, 'assure': 1, 'assured': 1, 'assuredly': 1, 'assures': 1, 'assuring': 1, 'attain': 1, 'attainable': 1, 'attained': 1, 'attaining': 1, 'attains': 1, 'unattainable': 1, 'behalf': 1, 'bulk': 1, 'bulky': 1, 'ceased': 1, 'ceaseless': 1, 'ceasing': 1, 'coherent': 1, 'coherence': 1, 'coherently': 1, 'incoherent': 1, 'incoherently': 1, 'coincide': 1, 'coincided': 1, 'coincides': 1, 'coinciding': 1, 'coincident': 1, 'coincidental': 1, 'commence': 1, 'commenced': 1, 'commences': 1, 'commencement': 1, 'commencing': 1, 'recommences': 1, 'recommenced': 1, 'recommencing': 1, 'compatible': 1, 'compatibility': 1, 'incompatibility': 1, 'incompatible': 1, 'concurrent': 1, 'concurrently': 1, 'confine': 1, 'confined': 1, 'confines': 1, 'confining': 1, 'unconfined': 1, 'controversial': 1, 'controversially': 1, 'uncontroversial': 1, 'converse': 1, 'conversely': 1, 'devote': 1, 'devoted': 1, 'devotedly': 1, 'devotes': 1, 'devoting': 1, 'diminish': 1, 'diminished': 1, 'diminishes': 1, 'diminishing': 1, 'diminution': 1, 'undiminished': 1, 'distort': 1, 'distorted': 1, 'distorting': 1, 'distorts': 1, 'duration': 1, 'erode': 1, 'eroded': 1, 'erodes': 1, 'eroding': 1, 'erosion': 1, 'ethical': 1, 'ethically': 1, 'unethical': 1, 'formatted': 1, 'formatting': 1, 'found': 1, 'founded': 1, 'founding': 1, 'unfounded': 1, 'inherent': 1, 'inherently': 1, 'insightful': 1, 'integral': 1, 'intermediate': 1, 'manually': 1, 'mature': 1, 'immature': 1, 'immaturity': 1, 'maturation': 1, 'maturational': 1, 'matured': 1, 'matures': 1, 'maturing': 1, 'maturity': 1, 'mediate': 1, 'mediated': 1, 'mediates': 1, 'mediating': 1, 'mediation': 1, 'military': 1, 'minimal': 1, 'minimalisation': 1, 'minimalise': 1, 'minimalises': 1, 'minimalised': 1, 'minimalising': 1, 'minimalistic': 1, 'minimalization': 1, 'minimalize': 1, 'minimalized': 1, 'minimalizes': 1, 'minimalizing': 1, 'minimally': 1, 'mutual': 1, 'mutually': 1, 'overlapped': 1, 'overlapping': 1, 'passive': 1, 'passively': 1, 'passivity': 1, 'qualitative': 1, 'qualitatively': 1, 'refine': 1, 'refined': 1, 'refines': 1, 'refining': 1, 'relax': 1, 'relaxation': 1, 'relaxed': 1, 'relaxes': 1, 'relaxing': 1, 'restrain': 1, 'restrained': 1, 'restraining': 1, 'restrains': 1, 'unrestrained': 1, 'revolutionise': 1, 'revolutionised': 1, 'revolutionises': 1, 'revolutionising': 1, 'revolutionize': 1, 'revolutionized': 1, 'revolutionizes': 1, 'revolutionizing': 1, 'rigid': 1, 'rigidly': 1, 'routed': 1, 'routing': 1, 'spherical': 1, 'spherically': 1, 'subordination': 1, 'supplementary': 1, 'supplemented': 1, 'supplementing': 1, 'suspend': 1, 'suspended': 1, 'suspending': 1, 'suspends': 1, 'suspension': 1, 'teamed': 1, 'teaming': 1, 'temporary': 1, 'temporarily': 1, 'triggered': 1, 'triggering': 1, 'unify': 1, 'unification': 1, 'unified': 1, 'unifies': 1, 'unifying': 1, 'violate': 1, 'violated': 1, 'violates': 1, 'violating': 1, '10': 1, 'adjacent': 1, 'albeit': 1, 'assemble': 1, 'assembled': 1, 'assembles': 1, 'assembling': 1, 'collapsed': 1, 'collapsible': 1, 'collapsing': 1, 'compile': 1, 'compiled': 1, 'compiles': 1, 'compiling': 1, 'conceive': 1, 'conceivable': 1, 'conceivably': 1, 'conceived': 1, 'conceives': 1, 'conceiving': 1, 'inconceivable': 1, 'inconceivably': 1, 'convince': 1, 'convinced': 1, 'convinces': 1, 'convincing': 1, 'convincingly': 1, 'unconvinced': 1, 'depress': 1, 'depressed': 1, 'depresses': 1, 'depressing': 1, 'depression': 1, 'encountered': 1, 'encountering': 1, 'enormous': 1, 'enormity': 1, 'enormously': 1, 'forthcoming': 1, 'inclined': 1, 'inclining': 1, 'integrity': 1, 'intrinsic': 1, 'intrinsically': 1, 'invoke': 1, 'invoked': 1, 'invokes': 1, 'invoking': 1, 'likewise': 1, 'nonetheless': 1, 'notwithstanding': 1, 'odd': 1, 'odds': 1, 'ongoing': 1, 'panelled': 1, 'panelling': 1, 'persist': 1, 'persisted': 1, 'persistence': 1, 'persistent': 1, 'persistently': 1, 'persisting': 1, 'persists': 1, 'posed': 1, 'posing': 1, 'reluctance': 1, 'reluctant': 1, 'reluctantly': 1, 'so‑called': 1, 'straightforward': 1, 'undergo': 1, 'undergoes': 1, 'undergoing': 1, 'undergone': 1, 'underwent': 1, 'whereby': 1})\n",
      "0\n",
      "total: 0\n",
      "1\n",
      "found\n",
      "total: 1\n",
      "2\n",
      "total: 0\n",
      "3\n",
      "total: 0\n",
      "4\n",
      "total: 0\n",
      "5\n",
      "total: 0\n",
      "6\n",
      "aid\n",
      "aid\n",
      "job\n",
      "aid\n",
      "total: 4\n",
      "7\n",
      "region\n",
      "total: 1\n",
      "8\n",
      "total: 0\n",
      "9\n",
      "total: 0\n",
      "10\n",
      "total: 0\n",
      "11\n",
      "total: 0\n"
     ]
    }
   ],
   "source": [
    "with open(\"awl.txt\",'r') as file:\n",
    "    corpus = file.read().replace('\\n', ' ')\n",
    "tokens = preprocess(corpus)\n",
    "freq = Counter(tokens)\n",
    "print(freq)\n",
    "rare_list = freq.keys()\n",
    "\n",
    "for i in range(len(sub_tests)):\n",
    "    print(i)\n",
    "    tokens = preprocess(sub_tests[i])\n",
    "    counter = 0\n",
    "    for t in tokens:\n",
    "        if t in rare_list:\n",
    "            print(t)\n",
    "            counter += 1\n",
    "    print('total:', counter)"
   ]
  },
  {
   "cell_type": "code",
   "execution_count": 55,
   "metadata": {},
   "outputs": [
    {
     "name": "stdout",
     "output_type": "stream",
     "text": [
      "22\n"
     ]
    }
   ],
   "source": [
    "get_rare_words_perc(sub_tests[0])"
   ]
  },
  {
   "cell_type": "markdown",
   "metadata": {},
   "source": [
    "### Calculate parse tree depth"
   ]
  },
  {
   "cell_type": "code",
   "execution_count": 13,
   "metadata": {},
   "outputs": [],
   "source": [
    "def get_average_depth(parser,text):\n",
    "    sentences = nltk.sent_tokenize(text)\n",
    "#     print(sentences)\n",
    "    depths = []\n",
    "    for s in sentences:\n",
    "        parse = next(parser.raw_parse(s))\n",
    "#         parse.draw()\n",
    "        depths.append(parse.height())\n",
    "        \n",
    "    return statistics.mean(depths)\n",
    "\n",
    "def get_depth_stats(parser,text):\n",
    "    sentences = nltk.sent_tokenize(text)\n",
    "#     print(sentences)\n",
    "    depths = []\n",
    "    for s in sentences:\n",
    "        parse = next(parser.raw_parse(s))\n",
    "#         parse.draw()\n",
    "        depths.append(parse.height())\n",
    "        \n",
    "    return [statistics.mean(depths), statistics.stdev(depths), max(depths)]\n",
    "#     return [min(depths), max(depths)]\n",
    "\n",
    "parser = CoreNLPParser(url='http://localhost:9000')\n",
    "\n",
    "# parse = next(parser.raw_parse(nltk.sent_tokenize(sub_tests[7])[4]))\n",
    "# print(parse.height())\n",
    "# parse.draw()\n",
    "\n"
   ]
  },
  {
   "cell_type": "markdown",
   "metadata": {},
   "source": [
    "### Questions and Answers Embedding"
   ]
  },
  {
   "cell_type": "code",
   "execution_count": 6,
   "metadata": {
    "scrolled": false
   },
   "outputs": [
    {
     "name": "stdout",
     "output_type": "stream",
     "text": [
      "48\n",
      "48\n"
     ]
    },
    {
     "data": {
      "application/vnd.jupyter.widget-view+json": {
       "model_id": "5e08ad5a43434160b779f376c1e37177",
       "version_major": 2,
       "version_minor": 0
      },
      "text/plain": [
       "HBox(children=(HTML(value='Batches'), FloatProgress(value=0.0, max=2.0), HTML(value='')))"
      ]
     },
     "metadata": {},
     "output_type": "display_data"
    },
    {
     "name": "stdout",
     "output_type": "stream",
     "text": [
      "\n"
     ]
    },
    {
     "data": {
      "application/vnd.jupyter.widget-view+json": {
       "model_id": "262d95c6c3a147818ba191e09a7399cb",
       "version_major": 2,
       "version_minor": 0
      },
      "text/plain": [
       "HBox(children=(HTML(value='Batches'), FloatProgress(value=0.0, max=2.0), HTML(value='')))"
      ]
     },
     "metadata": {},
     "output_type": "display_data"
    },
    {
     "name": "stdout",
     "output_type": "stream",
     "text": [
      "\n",
      "(48, 768)\n",
      "(48, 768)\n"
     ]
    }
   ],
   "source": [
    "questions = []\n",
    "answers = []\n",
    "\n",
    "with open(questions_path,'r') as fp:\n",
    "    for _ in range(48):\n",
    "        question = fp.readline()\n",
    "        answer = fp.readline()\n",
    "#         print(question,answer)\n",
    "        questions.append(question)\n",
    "        answers.append(answer)\n",
    "        \n",
    "print(len(questions))\n",
    "print(len(answers))\n",
    "\n",
    "questions_embed = model.encode(questions, show_progress_bar=True)\n",
    "answers_embed = model.encode(answers, show_progress_bar=True)\n",
    "\n",
    "print(questions_embed.shape)\n",
    "print(answers_embed.shape)"
   ]
  },
  {
   "cell_type": "markdown",
   "metadata": {},
   "source": [
    "### Sentence Complexity"
   ]
  },
  {
   "cell_type": "code",
   "execution_count": 15,
   "metadata": {},
   "outputs": [],
   "source": [
    "depths = []\n",
    "questions_depth = []\n",
    "answer_depth = []\n",
    "\n",
    "for text in sub_tests:\n",
    "    depths.append(get_depth_stats(parser,text))\n",
    "\n",
    "for q in questions:\n",
    "    questions_depth.append(get_average_depth(parser,q))\n",
    "\n",
    "for a in answers:\n",
    "    answer_depth.append(get_average_depth(parser,a))"
   ]
  },
  {
   "cell_type": "markdown",
   "metadata": {},
   "source": [
    "### Word Frequency"
   ]
  },
  {
   "cell_type": "code",
   "execution_count": null,
   "metadata": {},
   "outputs": [],
   "source": []
  },
  {
   "cell_type": "markdown",
   "metadata": {},
   "source": [
    "### Feature names"
   ]
  },
  {
   "cell_type": "code",
   "execution_count": 35,
   "metadata": {},
   "outputs": [],
   "source": [
    "df2 = pd.read_excel(feature_path)"
   ]
  },
  {
   "cell_type": "code",
   "execution_count": 48,
   "metadata": {},
   "outputs": [],
   "source": [
    "feature_path = \"../../SoR_Alberta.Shared.Data.and.Codebook.xlsx\"#\"../data/gr3/gr3_features.xlsx\"\n",
    "feature_names = ['G3.PPVT.Vocab.raw',\n",
    "                 'G3.Elision.PA.raw',\n",
    "                 'G3.Syn.GramCorrect.raw',\n",
    "                 'G3.DigitSpan.raw',\n",
    "                 'G3.WordID.raw',\n",
    "                 'G3.TOWRE.PDE.raw',\n",
    "                ]\n"
   ]
  },
  {
   "cell_type": "code",
   "execution_count": 45,
   "metadata": {
    "scrolled": true
   },
   "outputs": [],
   "source": [
    "# remove non-full entries\n",
    "for name in feature_names:\n",
    "    unavailable_index = df2[df2[name]<0].index\n",
    "    df2.drop(unavailable_index , inplace=True)"
   ]
  },
  {
   "cell_type": "code",
   "execution_count": 46,
   "metadata": {},
   "outputs": [],
   "source": [
    "# add towre scores\n",
    "df2['G3.TOWRE.raw'] = df2['G3.TOWRE.SWE.raw'] + df2['G3.TOWRE.PDE.raw']"
   ]
  },
  {
   "cell_type": "code",
   "execution_count": 52,
   "metadata": {},
   "outputs": [
    {
     "name": "stdout",
     "output_type": "stream",
     "text": [
      "G3.PPVT.Vocab.raw\n",
      "count    138.000000\n",
      "mean      31.949275\n",
      "std        4.930647\n",
      "min       19.000000\n",
      "25%       29.000000\n",
      "50%       32.000000\n",
      "75%       36.000000\n",
      "max       46.000000\n",
      "Name: G3.PPVT.Vocab.raw, dtype: float64\n",
      "G3.Elision.PA.raw\n",
      "count    138.000000\n",
      "mean      23.014493\n",
      "std        6.097727\n",
      "min        8.000000\n",
      "25%       17.250000\n",
      "50%       25.000000\n",
      "75%       28.000000\n",
      "max       33.000000\n",
      "Name: G3.Elision.PA.raw, dtype: float64\n",
      "G3.Syn.GramCorrect.raw\n",
      "count    138.000000\n",
      "mean       9.565217\n",
      "std        3.266634\n",
      "min        2.000000\n",
      "25%        7.000000\n",
      "50%       10.000000\n",
      "75%       12.000000\n",
      "max       16.000000\n",
      "Name: G3.Syn.GramCorrect.raw, dtype: float64\n",
      "G3.DigitSpan.raw\n",
      "count    138.000000\n",
      "mean      13.173913\n",
      "std        2.308072\n",
      "min        8.000000\n",
      "25%       12.000000\n",
      "50%       13.000000\n",
      "75%       15.000000\n",
      "max       20.000000\n",
      "Name: G3.DigitSpan.raw, dtype: float64\n",
      "G3.WordID.raw\n",
      "count    138.000000\n",
      "mean      60.971014\n",
      "std       12.723874\n",
      "min        3.000000\n",
      "25%       55.250000\n",
      "50%       63.000000\n",
      "75%       70.000000\n",
      "max       83.000000\n",
      "Name: G3.WordID.raw, dtype: float64\n",
      "G3.TOWRE.PDE.raw\n",
      "count    138.000000\n",
      "mean      24.471014\n",
      "std       12.803508\n",
      "min        0.000000\n",
      "25%       15.000000\n",
      "50%       24.500000\n",
      "75%       34.000000\n",
      "max       51.000000\n",
      "Name: G3.TOWRE.PDE.raw, dtype: float64\n",
      "G3.PPVT.Vocab.raw\n",
      "count    138.000000\n",
      "mean       0.479603\n",
      "std        0.182617\n",
      "min        0.000000\n",
      "25%        0.370370\n",
      "50%        0.481481\n",
      "75%        0.629630\n",
      "max        1.000000\n",
      "Name: G3.PPVT.Vocab.raw, dtype: float64\n",
      "G3.Elision.PA.raw\n",
      "count    138.000000\n",
      "mean       0.600580\n",
      "std        0.243909\n",
      "min        0.000000\n",
      "25%        0.370000\n",
      "50%        0.680000\n",
      "75%        0.800000\n",
      "max        1.000000\n",
      "Name: G3.Elision.PA.raw, dtype: float64\n",
      "G3.Syn.GramCorrect.raw\n",
      "count    138.000000\n",
      "mean       0.540373\n",
      "std        0.233331\n",
      "min        0.000000\n",
      "25%        0.357143\n",
      "50%        0.571429\n",
      "75%        0.714286\n",
      "max        1.000000\n",
      "Name: G3.Syn.GramCorrect.raw, dtype: float64\n",
      "G3.DigitSpan.raw\n",
      "count    138.000000\n",
      "mean       0.431159\n",
      "std        0.192339\n",
      "min        0.000000\n",
      "25%        0.333333\n",
      "50%        0.416667\n",
      "75%        0.583333\n",
      "max        1.000000\n",
      "Name: G3.DigitSpan.raw, dtype: float64\n",
      "G3.WordID.raw\n",
      "count    138.000000\n",
      "mean       0.724638\n",
      "std        0.159048\n",
      "min        0.000000\n",
      "25%        0.653125\n",
      "50%        0.750000\n",
      "75%        0.837500\n",
      "max        1.000000\n",
      "Name: G3.WordID.raw, dtype: float64\n",
      "G3.TOWRE.PDE.raw\n",
      "count    138.000000\n",
      "mean       0.479824\n",
      "std        0.251049\n",
      "min        0.000000\n",
      "25%        0.294118\n",
      "50%        0.480392\n",
      "75%        0.666667\n",
      "max        1.000000\n",
      "Name: G3.TOWRE.PDE.raw, dtype: float64\n"
     ]
    }
   ],
   "source": [
    "for name in feature_names:\n",
    "    print(name)\n",
    "    print(df2[name].describe())\n",
    "\n",
    "# normalize all feature using min-max normalization\n",
    "normalized_df2=(df2-df2.min())/(df2.max()-df2.min())\n"
   ]
  },
  {
   "cell_type": "markdown",
   "metadata": {},
   "source": [
    "### Assemble all features into one list"
   ]
  },
  {
   "cell_type": "code",
   "execution_count": 55,
   "metadata": {},
   "outputs": [
    {
     "name": "stdout",
     "output_type": "stream",
     "text": [
      "[ 0.51851852  0.72        0.21428571  0.25        0.7         0.43137255\n",
      "  7.66666667  1.3662601  10.          0.31034483  7.          4.        ]\n",
      "4\n"
     ]
    }
   ],
   "source": [
    "data = []\n",
    "\n",
    "\n",
    "combined = []\n",
    "\n",
    "for i in normalized_df2.index:\n",
    "\n",
    "    skills = []\n",
    "    # Retrieve all skill feature data\n",
    "    for name in feature_names:\n",
    "        value = normalized_df2[name][i]\n",
    "        skills.append(value)\n",
    "    \n",
    "    for index, q_range in enumerate(questions_ranges):\n",
    "        entry = []\n",
    "        entry.append(skills+depths[index]+[sub_tests_rare[index]]) ### append depth and rare word feature\n",
    "        entry.append(sub_tests_embed[index])\n",
    "        \n",
    "        for j in range(q_range[0],q_range[1]+1):\n",
    "            # add embeddings\n",
    "            detail = []\n",
    "            detail.append(questions_embed[j-1])\n",
    "            detail.append(answers_embed[j-1])\n",
    "            # add cfg depth\n",
    "            new_entry = copy.deepcopy(entry)\n",
    "\n",
    "            new_entry[0] += [questions_depth[j-1],answer_depth[j-1]]\n",
    "            new_entry[0] = np.asarray(new_entry[0])\n",
    "            \n",
    "            if df[f\"Gr{grade}.RC.Gates_\"+\"{:02d}\".format(j)][i] == 1:\n",
    "                detail.append(1)\n",
    "            elif df[f\"Gr{grade}.RC.Gates_\"+\"{:02d}\".format(j)][i] in (2,0):\n",
    "                detail.append(0)\n",
    "            else:\n",
    "                print('DNE')\n",
    "            data.append(new_entry+detail+[index])\n",
    "\n",
    "print(data[0][0])\n",
    "print(data[400][5])\n",
    "    "
   ]
  },
  {
   "cell_type": "code",
   "execution_count": 25,
   "metadata": {},
   "outputs": [],
   "source": [
    "with open(\"data.pkl\",'wb') as fp:\n",
    "    pickle.dump(data, fp)\n"
   ]
  },
  {
   "cell_type": "code",
   "execution_count": 66,
   "metadata": {},
   "outputs": [],
   "source": [
    "with open(\"data.pkl\",'rb') as fp:\n",
    "    new_data = pickle.load(fp)"
   ]
  },
  {
   "cell_type": "code",
   "execution_count": 67,
   "metadata": {},
   "outputs": [
    {
     "name": "stdout",
     "output_type": "stream",
     "text": [
      "12\n"
     ]
    }
   ],
   "source": [
    "print(len(new_data[1][0]))\n",
    "# print(len(new_data))"
   ]
  }
 ],
 "metadata": {
  "kernelspec": {
   "display_name": "Python 3",
   "language": "python",
   "name": "python3"
  },
  "language_info": {
   "codemirror_mode": {
    "name": "ipython",
    "version": 3
   },
   "file_extension": ".py",
   "mimetype": "text/x-python",
   "name": "python",
   "nbconvert_exporter": "python",
   "pygments_lexer": "ipython3",
   "version": "3.8.5"
  }
 },
 "nbformat": 4,
 "nbformat_minor": 4
}
